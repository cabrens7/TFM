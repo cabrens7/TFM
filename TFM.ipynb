{
  "nbformat": 4,
  "nbformat_minor": 0,
  "metadata": {
    "colab": {
      "provenance": [],
      "collapsed_sections": []
    },
    "kernelspec": {
      "name": "python3",
      "display_name": "Python 3"
    },
    "language_info": {
      "name": "python"
    }
  },
  "cells": [
    {
      "cell_type": "markdown",
      "source": [
        "# Extracción de datos"
      ],
      "metadata": {
        "id": "U8txlKq6bH5e"
      }
    },
    {
      "cell_type": "code",
      "source": [
        "# Importamos las librerias necesarias ------------------------------------------\n",
        "\n",
        "from scrapy.item import Item\n",
        "from scrapy.item import Field\n",
        "from scrapy.spiders import CrawlSpider\n",
        "from scrapy.spiders import Rule\n",
        "from scrapy.linkextractors import LinkExtractor\n",
        "from scrapy.selector import Selector\n",
        "from scrapy.loader import ItemLoader\n",
        "from scrapy.crawler import CrawlerProcess"
      ],
      "metadata": {
        "id": "S3se5apwbMCx"
      },
      "execution_count": null,
      "outputs": []
    },
    {
      "cell_type": "code",
      "source": [
        "# Creamos una clase CrawlSpider para la extracción de los datos ----------------\n",
        "\n",
        "class Coche(Item):\n",
        "  marca_modelo = Field()\n",
        "  descripcion = Field()\n",
        "  millas = Field()\n",
        "  antiguedad = Field()\n",
        "  caja_cambios = Field()\n",
        "  motor = Field()\n",
        "  precio_libra = Field()\n",
        "\n",
        "class CochesCrawler(CrawlSpider):\n",
        "    name = 'Coches'\n",
        "    custom_settings = {\n",
        "        'USER_AGENT': 'Mozilla/5.0 (Windows NT 10.0; Win64; x64) AppleWebKit/537.36 (KHTML, like Gecko) Chrome/74.0.3729.169 Safari/537.36',\n",
        "\n",
        "    }\n",
        "\n",
        "    download_delay = 2\n",
        "\n",
        "    allowed_domains = ['cazoo.co.uk']\n",
        "\n",
        "    start_urls = ['https://www.cazoo.co.uk/cars/bmw/']\n",
        "\n",
        "    rules = (\n",
        "        Rule(\n",
        "            LinkExtractor(\n",
        "                allow= r'/?page='\n",
        "            ), follow= True, callback='parse_items'\n",
        "        ),\n",
        "    )\n",
        "\n",
        "    def parse_items(self, response):\n",
        "      sel = Selector(response)\n",
        "      modelos = sel.xpath('//div[@class=\"vehicle-cardstyles__Card-sc-1bxv5iu-0 giiAxy\"]')\n",
        "\n",
        "      for modelo in modelos:\n",
        "        item = ItemLoader(Coche(), modelo)\n",
        "        item.add_xpath('marca_modelo', './/p[@data-test-id=\"card-title\"]/text()')\n",
        "        item.add_xpath('descripcion', './/p[@class=\"vehicle-cardstyles__DisplayVariant-sc-1bxv5iu-7 cErJHu\"]/text()')\n",
        "        item.add_xpath('millas', './/ul[@data-test-id=\"tags\"]//li[1]/text()')\n",
        "        item.add_xpath('antiguedad', './/ul[@data-test-id=\"tags\"]//li[2]/text()')\n",
        "        item.add_xpath('caja_cambios', './/ul[@data-test-id=\"tags\"]//li[3]/text()')\n",
        "        item.add_xpath('motor', './/ul[@data-test-id=\"tags\"]//li[4]/text()')\n",
        "        item.add_xpath('precio_libra', './/p[@data-test-id=\"card-pricing-full-price-gb\"]/text()')\n",
        "\n",
        "        yield item.load_item()\n",
        "\n",
        "process = CrawlerProcess({\n",
        "    'FEEDS' : {'coches.csv' : {'format' : 'csv'}}\n",
        "})\n",
        "\n",
        "process.crawl(CochesCrawler)\n",
        "process.start()"
      ],
      "metadata": {
        "id": "lLZGl-S3bOw5"
      },
      "execution_count": null,
      "outputs": []
    },
    {
      "cell_type": "markdown",
      "source": [
        "# Análisis de los modelos empleados"
      ],
      "metadata": {
        "id": "EvB_KhgJbTl0"
      }
    },
    {
      "cell_type": "code",
      "execution_count": null,
      "metadata": {
        "id": "uPSdFyfrJj46"
      },
      "outputs": [],
      "source": [
        "# Importamos todas las librerias -----------------------------------------------\n",
        "\n",
        "import pandas as pd\n",
        "import numpy as np\n",
        "import matplotlib.pyplot as plt\n",
        "import seaborn as sns\n",
        "import statsmodels.api as sm\n",
        "from sklearn.preprocessing import StandardScaler, LabelEncoder\n",
        "from sklearn.model_selection import train_test_split, GridSearchCV\n",
        "from sklearn import linear_model\n",
        "from sklearn.ensemble import RandomForestRegressor\n",
        "from lightgbm.sklearn import LGBMModel\n",
        "from math import sqrt\n",
        "import lightgbm as lgb\n",
        "from sklearn.metrics import mean_absolute_error, mean_squared_error, r2_score\n",
        "import numpy as np\n",
        "import os\n",
        "\n",
        "import warnings\n",
        "warnings.filterwarnings('ignore')"
      ]
    },
    {
      "cell_type": "code",
      "source": [
        "# Diseño de gráficos -----------------------------------------------------------\n",
        "\n",
        "graph_color = '#5CAEF7'\n",
        "parameters = {'axes.labelsize': 12,\n",
        "          'axes.titlesize': 12,\n",
        "          'xtick.labelsize': 11,\n",
        "          'ytick.labelsize': 11,}\n",
        "plt.rcParams.update(parameters)"
      ],
      "metadata": {
        "id": "bn45cM_MSLVu"
      },
      "execution_count": null,
      "outputs": []
    },
    {
      "cell_type": "code",
      "source": [
        "# Función para generar gráficas de resultados y análisis de residuos -----------\n",
        "\n",
        "def graph_res(y_test, pred, residuos_train):\n",
        "  fig, axes = plt.subplots(nrows=2, ncols=2, figsize=(14, 10))\n",
        "\n",
        "  axes[0, 0].scatter(y_test, pred, edgecolors=graph_color, alpha = 0.4)\n",
        "  axes[0, 0].plot([y_test.min(), y_test.max()], [y_test.min(), y_test.max()],\n",
        "                'k--', color = 'black', lw=2)\n",
        "  axes[0, 0].set_title('Valor predicho vs valor real', fontsize = 10, fontweight = \"bold\")\n",
        "  axes[0, 0].set_xlabel('Real')\n",
        "  axes[0, 0].set_ylabel('Predicción')\n",
        "  #axes[0, 0].tick_params(labelsize = 7)\n",
        "\n",
        "  axes[0, 1].scatter(list(range(len(y_test))), residuos_train,\n",
        "                   edgecolors=graph_color, alpha = 0.4)\n",
        "  axes[0, 1].axhline(y = 0, linestyle = '--', color = 'black', lw=2)\n",
        "  axes[0, 1].set_title('Residuos del modelo', fontsize = 10, fontweight = \"bold\")\n",
        "  axes[0, 1].set_xlabel('id')\n",
        "  axes[0, 1].set_ylabel('Residuo')\n",
        "  #axes[0, 1].tick_params(labelsize = 7)\n",
        "\n",
        "  sns.histplot(\n",
        "      data    = residuos_train,\n",
        "      stat    = \"density\",\n",
        "      kde     = True,\n",
        "      line_kws= {'linewidth': 3, 'color': 'blue', 'lw':5, 'ls': ':'},\n",
        "      color   = graph_color,\n",
        "      alpha   = 0.4,\n",
        "      ax      = axes[1, 0]\n",
        "  )\n",
        "\n",
        "  axes[1, 0].set_title('Distribución residuos del modelo', fontsize = 10,\n",
        "                     fontweight = \"bold\")\n",
        "  axes[1, 0].set_xlabel(\"Residuo\")\n",
        "  #axes[1, 0].tick_params(labelsize = 7)\n",
        "\n",
        "\n",
        "  sm.qqplot(\n",
        "      residuos_train,\n",
        "      fit   = True,\n",
        "      line  = 'q',\n",
        "      ax    = axes[1, 1], \n",
        "      markerfacecolor = graph_color,\n",
        "      markeredgecolor = graph_color,\n",
        "      alpha = 0.7,\n",
        "      lw    = 2\n",
        "  )\n",
        "  axes[1, 1].set_title('Q-Q residuos del modelo', fontsize = 10, fontweight = \"bold\")\n",
        "  #axes[1, 1].tick_params(labelsize = 7)\n",
        "\n",
        "\n",
        "  fig.tight_layout()\n",
        "  plt.subplots_adjust(top=0.9)\n",
        "  fig.suptitle('Diagnóstico residuos', fontsize = 12, fontweight = \"bold\");"
      ],
      "metadata": {
        "id": "d8evMC_T_3fM"
      },
      "execution_count": null,
      "outputs": []
    },
    {
      "cell_type": "code",
      "source": [
        "# Cargamos los datos de partida ------------------------------------------------\n",
        "\n",
        "raw_data = pd.read_csv('/content/coches.csv', sep=',')"
      ],
      "metadata": {
        "id": "LUi0jQHRJs6R"
      },
      "execution_count": null,
      "outputs": []
    },
    {
      "cell_type": "code",
      "source": [
        "raw_data"
      ],
      "metadata": {
        "colab": {
          "base_uri": "https://localhost:8080/",
          "height": 424
        },
        "id": "D86PCvAsKLdA",
        "outputId": "938ae3d4-7e68-471c-cd12-4f094a78b6fd"
      },
      "execution_count": null,
      "outputs": [
        {
          "output_type": "execute_result",
          "data": {
            "text/plain": [
              "    antiguedad caja_cambios              descripcion  \\\n",
              "0     2015 reg       Manual                 3L M135i   \n",
              "1     2019 reg       Manual          1.5L Sport 118i   \n",
              "2     2018 reg       Manual        1.5L M Sport 216d   \n",
              "3     2019 reg       Manual             1.5L SE 218i   \n",
              "4     2017 reg       Manual            2L Sport 120i   \n",
              "..         ...          ...                      ...   \n",
              "542   2017 reg    Automatic          2L M Sport 420d   \n",
              "543   2017 reg    Automatic               2L SE 530i   \n",
              "544   2018 reg    Automatic  3L Shadow Edition M140i   \n",
              "545   2016 reg    Automatic          3L M Sport 335d   \n",
              "546   2019 reg    Automatic           2L M Sport 18d   \n",
              "\n",
              "                     marca_modelo        millas   motor precio_libra  \n",
              "0                  BMW, ,1 Series  67,907 miles  Petrol      £15,250  \n",
              "1                  BMW, ,1 Series  30,240 miles  Petrol      £15,300  \n",
              "2    BMW, ,2 Series Active Tourer  35,470 miles  Diesel      £15,300  \n",
              "3      BMW, ,2 Series Gran Tourer  38,509 miles  Petrol      £15,450  \n",
              "4                  BMW, ,1 Series  18,568 miles  Petrol      £15,450  \n",
              "..                            ...           ...     ...          ...  \n",
              "542                BMW, ,4 Series  24,225 miles  Diesel      £23,250  \n",
              "543                BMW, ,5 Series  22,702 miles  Petrol      £23,250  \n",
              "544                BMW, ,1 Series  29,000 miles  Petrol      £23,250  \n",
              "545                BMW, ,3 Series  46,850 miles  Diesel      £23,250  \n",
              "546                      BMW, ,X2  24,236 miles  Diesel      £23,300  \n",
              "\n",
              "[547 rows x 7 columns]"
            ],
            "text/html": [
              "\n",
              "  <div id=\"df-fc127ebb-df4c-45e4-8391-06845bd67aa4\">\n",
              "    <div class=\"colab-df-container\">\n",
              "      <div>\n",
              "<style scoped>\n",
              "    .dataframe tbody tr th:only-of-type {\n",
              "        vertical-align: middle;\n",
              "    }\n",
              "\n",
              "    .dataframe tbody tr th {\n",
              "        vertical-align: top;\n",
              "    }\n",
              "\n",
              "    .dataframe thead th {\n",
              "        text-align: right;\n",
              "    }\n",
              "</style>\n",
              "<table border=\"1\" class=\"dataframe\">\n",
              "  <thead>\n",
              "    <tr style=\"text-align: right;\">\n",
              "      <th></th>\n",
              "      <th>antiguedad</th>\n",
              "      <th>caja_cambios</th>\n",
              "      <th>descripcion</th>\n",
              "      <th>marca_modelo</th>\n",
              "      <th>millas</th>\n",
              "      <th>motor</th>\n",
              "      <th>precio_libra</th>\n",
              "    </tr>\n",
              "  </thead>\n",
              "  <tbody>\n",
              "    <tr>\n",
              "      <th>0</th>\n",
              "      <td>2015 reg</td>\n",
              "      <td>Manual</td>\n",
              "      <td>3L M135i</td>\n",
              "      <td>BMW, ,1 Series</td>\n",
              "      <td>67,907 miles</td>\n",
              "      <td>Petrol</td>\n",
              "      <td>£15,250</td>\n",
              "    </tr>\n",
              "    <tr>\n",
              "      <th>1</th>\n",
              "      <td>2019 reg</td>\n",
              "      <td>Manual</td>\n",
              "      <td>1.5L Sport 118i</td>\n",
              "      <td>BMW, ,1 Series</td>\n",
              "      <td>30,240 miles</td>\n",
              "      <td>Petrol</td>\n",
              "      <td>£15,300</td>\n",
              "    </tr>\n",
              "    <tr>\n",
              "      <th>2</th>\n",
              "      <td>2018 reg</td>\n",
              "      <td>Manual</td>\n",
              "      <td>1.5L M Sport 216d</td>\n",
              "      <td>BMW, ,2 Series Active Tourer</td>\n",
              "      <td>35,470 miles</td>\n",
              "      <td>Diesel</td>\n",
              "      <td>£15,300</td>\n",
              "    </tr>\n",
              "    <tr>\n",
              "      <th>3</th>\n",
              "      <td>2019 reg</td>\n",
              "      <td>Manual</td>\n",
              "      <td>1.5L SE 218i</td>\n",
              "      <td>BMW, ,2 Series Gran Tourer</td>\n",
              "      <td>38,509 miles</td>\n",
              "      <td>Petrol</td>\n",
              "      <td>£15,450</td>\n",
              "    </tr>\n",
              "    <tr>\n",
              "      <th>4</th>\n",
              "      <td>2017 reg</td>\n",
              "      <td>Manual</td>\n",
              "      <td>2L Sport 120i</td>\n",
              "      <td>BMW, ,1 Series</td>\n",
              "      <td>18,568 miles</td>\n",
              "      <td>Petrol</td>\n",
              "      <td>£15,450</td>\n",
              "    </tr>\n",
              "    <tr>\n",
              "      <th>...</th>\n",
              "      <td>...</td>\n",
              "      <td>...</td>\n",
              "      <td>...</td>\n",
              "      <td>...</td>\n",
              "      <td>...</td>\n",
              "      <td>...</td>\n",
              "      <td>...</td>\n",
              "    </tr>\n",
              "    <tr>\n",
              "      <th>542</th>\n",
              "      <td>2017 reg</td>\n",
              "      <td>Automatic</td>\n",
              "      <td>2L M Sport 420d</td>\n",
              "      <td>BMW, ,4 Series</td>\n",
              "      <td>24,225 miles</td>\n",
              "      <td>Diesel</td>\n",
              "      <td>£23,250</td>\n",
              "    </tr>\n",
              "    <tr>\n",
              "      <th>543</th>\n",
              "      <td>2017 reg</td>\n",
              "      <td>Automatic</td>\n",
              "      <td>2L SE 530i</td>\n",
              "      <td>BMW, ,5 Series</td>\n",
              "      <td>22,702 miles</td>\n",
              "      <td>Petrol</td>\n",
              "      <td>£23,250</td>\n",
              "    </tr>\n",
              "    <tr>\n",
              "      <th>544</th>\n",
              "      <td>2018 reg</td>\n",
              "      <td>Automatic</td>\n",
              "      <td>3L Shadow Edition M140i</td>\n",
              "      <td>BMW, ,1 Series</td>\n",
              "      <td>29,000 miles</td>\n",
              "      <td>Petrol</td>\n",
              "      <td>£23,250</td>\n",
              "    </tr>\n",
              "    <tr>\n",
              "      <th>545</th>\n",
              "      <td>2016 reg</td>\n",
              "      <td>Automatic</td>\n",
              "      <td>3L M Sport 335d</td>\n",
              "      <td>BMW, ,3 Series</td>\n",
              "      <td>46,850 miles</td>\n",
              "      <td>Diesel</td>\n",
              "      <td>£23,250</td>\n",
              "    </tr>\n",
              "    <tr>\n",
              "      <th>546</th>\n",
              "      <td>2019 reg</td>\n",
              "      <td>Automatic</td>\n",
              "      <td>2L M Sport 18d</td>\n",
              "      <td>BMW, ,X2</td>\n",
              "      <td>24,236 miles</td>\n",
              "      <td>Diesel</td>\n",
              "      <td>£23,300</td>\n",
              "    </tr>\n",
              "  </tbody>\n",
              "</table>\n",
              "<p>547 rows × 7 columns</p>\n",
              "</div>\n",
              "      <button class=\"colab-df-convert\" onclick=\"convertToInteractive('df-fc127ebb-df4c-45e4-8391-06845bd67aa4')\"\n",
              "              title=\"Convert this dataframe to an interactive table.\"\n",
              "              style=\"display:none;\">\n",
              "        \n",
              "  <svg xmlns=\"http://www.w3.org/2000/svg\" height=\"24px\"viewBox=\"0 0 24 24\"\n",
              "       width=\"24px\">\n",
              "    <path d=\"M0 0h24v24H0V0z\" fill=\"none\"/>\n",
              "    <path d=\"M18.56 5.44l.94 2.06.94-2.06 2.06-.94-2.06-.94-.94-2.06-.94 2.06-2.06.94zm-11 1L8.5 8.5l.94-2.06 2.06-.94-2.06-.94L8.5 2.5l-.94 2.06-2.06.94zm10 10l.94 2.06.94-2.06 2.06-.94-2.06-.94-.94-2.06-.94 2.06-2.06.94z\"/><path d=\"M17.41 7.96l-1.37-1.37c-.4-.4-.92-.59-1.43-.59-.52 0-1.04.2-1.43.59L10.3 9.45l-7.72 7.72c-.78.78-.78 2.05 0 2.83L4 21.41c.39.39.9.59 1.41.59.51 0 1.02-.2 1.41-.59l7.78-7.78 2.81-2.81c.8-.78.8-2.07 0-2.86zM5.41 20L4 18.59l7.72-7.72 1.47 1.35L5.41 20z\"/>\n",
              "  </svg>\n",
              "      </button>\n",
              "      \n",
              "  <style>\n",
              "    .colab-df-container {\n",
              "      display:flex;\n",
              "      flex-wrap:wrap;\n",
              "      gap: 12px;\n",
              "    }\n",
              "\n",
              "    .colab-df-convert {\n",
              "      background-color: #E8F0FE;\n",
              "      border: none;\n",
              "      border-radius: 50%;\n",
              "      cursor: pointer;\n",
              "      display: none;\n",
              "      fill: #1967D2;\n",
              "      height: 32px;\n",
              "      padding: 0 0 0 0;\n",
              "      width: 32px;\n",
              "    }\n",
              "\n",
              "    .colab-df-convert:hover {\n",
              "      background-color: #E2EBFA;\n",
              "      box-shadow: 0px 1px 2px rgba(60, 64, 67, 0.3), 0px 1px 3px 1px rgba(60, 64, 67, 0.15);\n",
              "      fill: #174EA6;\n",
              "    }\n",
              "\n",
              "    [theme=dark] .colab-df-convert {\n",
              "      background-color: #3B4455;\n",
              "      fill: #D2E3FC;\n",
              "    }\n",
              "\n",
              "    [theme=dark] .colab-df-convert:hover {\n",
              "      background-color: #434B5C;\n",
              "      box-shadow: 0px 1px 3px 1px rgba(0, 0, 0, 0.15);\n",
              "      filter: drop-shadow(0px 1px 2px rgba(0, 0, 0, 0.3));\n",
              "      fill: #FFFFFF;\n",
              "    }\n",
              "  </style>\n",
              "\n",
              "      <script>\n",
              "        const buttonEl =\n",
              "          document.querySelector('#df-fc127ebb-df4c-45e4-8391-06845bd67aa4 button.colab-df-convert');\n",
              "        buttonEl.style.display =\n",
              "          google.colab.kernel.accessAllowed ? 'block' : 'none';\n",
              "\n",
              "        async function convertToInteractive(key) {\n",
              "          const element = document.querySelector('#df-fc127ebb-df4c-45e4-8391-06845bd67aa4');\n",
              "          const dataTable =\n",
              "            await google.colab.kernel.invokeFunction('convertToInteractive',\n",
              "                                                     [key], {});\n",
              "          if (!dataTable) return;\n",
              "\n",
              "          const docLinkHtml = 'Like what you see? Visit the ' +\n",
              "            '<a target=\"_blank\" href=https://colab.research.google.com/notebooks/data_table.ipynb>data table notebook</a>'\n",
              "            + ' to learn more about interactive tables.';\n",
              "          element.innerHTML = '';\n",
              "          dataTable['output_type'] = 'display_data';\n",
              "          await google.colab.output.renderOutput(dataTable, element);\n",
              "          const docLink = document.createElement('div');\n",
              "          docLink.innerHTML = docLinkHtml;\n",
              "          element.appendChild(docLink);\n",
              "        }\n",
              "      </script>\n",
              "    </div>\n",
              "  </div>\n",
              "  "
            ]
          },
          "metadata": {},
          "execution_count": 5
        }
      ]
    },
    {
      "cell_type": "code",
      "source": [
        "# Eliminamos los valores nulos\n",
        "\n",
        "data = raw_data.dropna()"
      ],
      "metadata": {
        "id": "3KedlQjwLFNr"
      },
      "execution_count": null,
      "outputs": []
    },
    {
      "cell_type": "code",
      "source": [
        "# Actualizamos la columna antigüedad para calcular los años del coche ----------\n",
        "\n",
        "data['años'] = data['antiguedad'].apply(lambda x: 2022 - int(x[0:4]))\n",
        "\n",
        "data"
      ],
      "metadata": {
        "colab": {
          "base_uri": "https://localhost:8080/",
          "height": 424
        },
        "id": "9E2POOlkKh8h",
        "outputId": "21084424-fe7e-40e3-902b-57e0e606d4db"
      },
      "execution_count": null,
      "outputs": [
        {
          "output_type": "execute_result",
          "data": {
            "text/plain": [
              "    antiguedad caja_cambios              descripcion  \\\n",
              "0     2015 reg       Manual                 3L M135i   \n",
              "1     2019 reg       Manual          1.5L Sport 118i   \n",
              "2     2018 reg       Manual        1.5L M Sport 216d   \n",
              "3     2019 reg       Manual             1.5L SE 218i   \n",
              "4     2017 reg       Manual            2L Sport 120i   \n",
              "..         ...          ...                      ...   \n",
              "542   2017 reg    Automatic          2L M Sport 420d   \n",
              "543   2017 reg    Automatic               2L SE 530i   \n",
              "544   2018 reg    Automatic  3L Shadow Edition M140i   \n",
              "545   2016 reg    Automatic          3L M Sport 335d   \n",
              "546   2019 reg    Automatic           2L M Sport 18d   \n",
              "\n",
              "                     marca_modelo        millas   motor precio_libra  años  \n",
              "0                  BMW, ,1 Series  67,907 miles  Petrol      £15,250     7  \n",
              "1                  BMW, ,1 Series  30,240 miles  Petrol      £15,300     3  \n",
              "2    BMW, ,2 Series Active Tourer  35,470 miles  Diesel      £15,300     4  \n",
              "3      BMW, ,2 Series Gran Tourer  38,509 miles  Petrol      £15,450     3  \n",
              "4                  BMW, ,1 Series  18,568 miles  Petrol      £15,450     5  \n",
              "..                            ...           ...     ...          ...   ...  \n",
              "542                BMW, ,4 Series  24,225 miles  Diesel      £23,250     5  \n",
              "543                BMW, ,5 Series  22,702 miles  Petrol      £23,250     5  \n",
              "544                BMW, ,1 Series  29,000 miles  Petrol      £23,250     4  \n",
              "545                BMW, ,3 Series  46,850 miles  Diesel      £23,250     6  \n",
              "546                      BMW, ,X2  24,236 miles  Diesel      £23,300     3  \n",
              "\n",
              "[546 rows x 8 columns]"
            ],
            "text/html": [
              "\n",
              "  <div id=\"df-726b0411-622f-4d68-bac4-dc24befa6c1d\">\n",
              "    <div class=\"colab-df-container\">\n",
              "      <div>\n",
              "<style scoped>\n",
              "    .dataframe tbody tr th:only-of-type {\n",
              "        vertical-align: middle;\n",
              "    }\n",
              "\n",
              "    .dataframe tbody tr th {\n",
              "        vertical-align: top;\n",
              "    }\n",
              "\n",
              "    .dataframe thead th {\n",
              "        text-align: right;\n",
              "    }\n",
              "</style>\n",
              "<table border=\"1\" class=\"dataframe\">\n",
              "  <thead>\n",
              "    <tr style=\"text-align: right;\">\n",
              "      <th></th>\n",
              "      <th>antiguedad</th>\n",
              "      <th>caja_cambios</th>\n",
              "      <th>descripcion</th>\n",
              "      <th>marca_modelo</th>\n",
              "      <th>millas</th>\n",
              "      <th>motor</th>\n",
              "      <th>precio_libra</th>\n",
              "      <th>años</th>\n",
              "    </tr>\n",
              "  </thead>\n",
              "  <tbody>\n",
              "    <tr>\n",
              "      <th>0</th>\n",
              "      <td>2015 reg</td>\n",
              "      <td>Manual</td>\n",
              "      <td>3L M135i</td>\n",
              "      <td>BMW, ,1 Series</td>\n",
              "      <td>67,907 miles</td>\n",
              "      <td>Petrol</td>\n",
              "      <td>£15,250</td>\n",
              "      <td>7</td>\n",
              "    </tr>\n",
              "    <tr>\n",
              "      <th>1</th>\n",
              "      <td>2019 reg</td>\n",
              "      <td>Manual</td>\n",
              "      <td>1.5L Sport 118i</td>\n",
              "      <td>BMW, ,1 Series</td>\n",
              "      <td>30,240 miles</td>\n",
              "      <td>Petrol</td>\n",
              "      <td>£15,300</td>\n",
              "      <td>3</td>\n",
              "    </tr>\n",
              "    <tr>\n",
              "      <th>2</th>\n",
              "      <td>2018 reg</td>\n",
              "      <td>Manual</td>\n",
              "      <td>1.5L M Sport 216d</td>\n",
              "      <td>BMW, ,2 Series Active Tourer</td>\n",
              "      <td>35,470 miles</td>\n",
              "      <td>Diesel</td>\n",
              "      <td>£15,300</td>\n",
              "      <td>4</td>\n",
              "    </tr>\n",
              "    <tr>\n",
              "      <th>3</th>\n",
              "      <td>2019 reg</td>\n",
              "      <td>Manual</td>\n",
              "      <td>1.5L SE 218i</td>\n",
              "      <td>BMW, ,2 Series Gran Tourer</td>\n",
              "      <td>38,509 miles</td>\n",
              "      <td>Petrol</td>\n",
              "      <td>£15,450</td>\n",
              "      <td>3</td>\n",
              "    </tr>\n",
              "    <tr>\n",
              "      <th>4</th>\n",
              "      <td>2017 reg</td>\n",
              "      <td>Manual</td>\n",
              "      <td>2L Sport 120i</td>\n",
              "      <td>BMW, ,1 Series</td>\n",
              "      <td>18,568 miles</td>\n",
              "      <td>Petrol</td>\n",
              "      <td>£15,450</td>\n",
              "      <td>5</td>\n",
              "    </tr>\n",
              "    <tr>\n",
              "      <th>...</th>\n",
              "      <td>...</td>\n",
              "      <td>...</td>\n",
              "      <td>...</td>\n",
              "      <td>...</td>\n",
              "      <td>...</td>\n",
              "      <td>...</td>\n",
              "      <td>...</td>\n",
              "      <td>...</td>\n",
              "    </tr>\n",
              "    <tr>\n",
              "      <th>542</th>\n",
              "      <td>2017 reg</td>\n",
              "      <td>Automatic</td>\n",
              "      <td>2L M Sport 420d</td>\n",
              "      <td>BMW, ,4 Series</td>\n",
              "      <td>24,225 miles</td>\n",
              "      <td>Diesel</td>\n",
              "      <td>£23,250</td>\n",
              "      <td>5</td>\n",
              "    </tr>\n",
              "    <tr>\n",
              "      <th>543</th>\n",
              "      <td>2017 reg</td>\n",
              "      <td>Automatic</td>\n",
              "      <td>2L SE 530i</td>\n",
              "      <td>BMW, ,5 Series</td>\n",
              "      <td>22,702 miles</td>\n",
              "      <td>Petrol</td>\n",
              "      <td>£23,250</td>\n",
              "      <td>5</td>\n",
              "    </tr>\n",
              "    <tr>\n",
              "      <th>544</th>\n",
              "      <td>2018 reg</td>\n",
              "      <td>Automatic</td>\n",
              "      <td>3L Shadow Edition M140i</td>\n",
              "      <td>BMW, ,1 Series</td>\n",
              "      <td>29,000 miles</td>\n",
              "      <td>Petrol</td>\n",
              "      <td>£23,250</td>\n",
              "      <td>4</td>\n",
              "    </tr>\n",
              "    <tr>\n",
              "      <th>545</th>\n",
              "      <td>2016 reg</td>\n",
              "      <td>Automatic</td>\n",
              "      <td>3L M Sport 335d</td>\n",
              "      <td>BMW, ,3 Series</td>\n",
              "      <td>46,850 miles</td>\n",
              "      <td>Diesel</td>\n",
              "      <td>£23,250</td>\n",
              "      <td>6</td>\n",
              "    </tr>\n",
              "    <tr>\n",
              "      <th>546</th>\n",
              "      <td>2019 reg</td>\n",
              "      <td>Automatic</td>\n",
              "      <td>2L M Sport 18d</td>\n",
              "      <td>BMW, ,X2</td>\n",
              "      <td>24,236 miles</td>\n",
              "      <td>Diesel</td>\n",
              "      <td>£23,300</td>\n",
              "      <td>3</td>\n",
              "    </tr>\n",
              "  </tbody>\n",
              "</table>\n",
              "<p>546 rows × 8 columns</p>\n",
              "</div>\n",
              "      <button class=\"colab-df-convert\" onclick=\"convertToInteractive('df-726b0411-622f-4d68-bac4-dc24befa6c1d')\"\n",
              "              title=\"Convert this dataframe to an interactive table.\"\n",
              "              style=\"display:none;\">\n",
              "        \n",
              "  <svg xmlns=\"http://www.w3.org/2000/svg\" height=\"24px\"viewBox=\"0 0 24 24\"\n",
              "       width=\"24px\">\n",
              "    <path d=\"M0 0h24v24H0V0z\" fill=\"none\"/>\n",
              "    <path d=\"M18.56 5.44l.94 2.06.94-2.06 2.06-.94-2.06-.94-.94-2.06-.94 2.06-2.06.94zm-11 1L8.5 8.5l.94-2.06 2.06-.94-2.06-.94L8.5 2.5l-.94 2.06-2.06.94zm10 10l.94 2.06.94-2.06 2.06-.94-2.06-.94-.94-2.06-.94 2.06-2.06.94z\"/><path d=\"M17.41 7.96l-1.37-1.37c-.4-.4-.92-.59-1.43-.59-.52 0-1.04.2-1.43.59L10.3 9.45l-7.72 7.72c-.78.78-.78 2.05 0 2.83L4 21.41c.39.39.9.59 1.41.59.51 0 1.02-.2 1.41-.59l7.78-7.78 2.81-2.81c.8-.78.8-2.07 0-2.86zM5.41 20L4 18.59l7.72-7.72 1.47 1.35L5.41 20z\"/>\n",
              "  </svg>\n",
              "      </button>\n",
              "      \n",
              "  <style>\n",
              "    .colab-df-container {\n",
              "      display:flex;\n",
              "      flex-wrap:wrap;\n",
              "      gap: 12px;\n",
              "    }\n",
              "\n",
              "    .colab-df-convert {\n",
              "      background-color: #E8F0FE;\n",
              "      border: none;\n",
              "      border-radius: 50%;\n",
              "      cursor: pointer;\n",
              "      display: none;\n",
              "      fill: #1967D2;\n",
              "      height: 32px;\n",
              "      padding: 0 0 0 0;\n",
              "      width: 32px;\n",
              "    }\n",
              "\n",
              "    .colab-df-convert:hover {\n",
              "      background-color: #E2EBFA;\n",
              "      box-shadow: 0px 1px 2px rgba(60, 64, 67, 0.3), 0px 1px 3px 1px rgba(60, 64, 67, 0.15);\n",
              "      fill: #174EA6;\n",
              "    }\n",
              "\n",
              "    [theme=dark] .colab-df-convert {\n",
              "      background-color: #3B4455;\n",
              "      fill: #D2E3FC;\n",
              "    }\n",
              "\n",
              "    [theme=dark] .colab-df-convert:hover {\n",
              "      background-color: #434B5C;\n",
              "      box-shadow: 0px 1px 3px 1px rgba(0, 0, 0, 0.15);\n",
              "      filter: drop-shadow(0px 1px 2px rgba(0, 0, 0, 0.3));\n",
              "      fill: #FFFFFF;\n",
              "    }\n",
              "  </style>\n",
              "\n",
              "      <script>\n",
              "        const buttonEl =\n",
              "          document.querySelector('#df-726b0411-622f-4d68-bac4-dc24befa6c1d button.colab-df-convert');\n",
              "        buttonEl.style.display =\n",
              "          google.colab.kernel.accessAllowed ? 'block' : 'none';\n",
              "\n",
              "        async function convertToInteractive(key) {\n",
              "          const element = document.querySelector('#df-726b0411-622f-4d68-bac4-dc24befa6c1d');\n",
              "          const dataTable =\n",
              "            await google.colab.kernel.invokeFunction('convertToInteractive',\n",
              "                                                     [key], {});\n",
              "          if (!dataTable) return;\n",
              "\n",
              "          const docLinkHtml = 'Like what you see? Visit the ' +\n",
              "            '<a target=\"_blank\" href=https://colab.research.google.com/notebooks/data_table.ipynb>data table notebook</a>'\n",
              "            + ' to learn more about interactive tables.';\n",
              "          element.innerHTML = '';\n",
              "          dataTable['output_type'] = 'display_data';\n",
              "          await google.colab.output.renderOutput(dataTable, element);\n",
              "          const docLink = document.createElement('div');\n",
              "          docLink.innerHTML = docLinkHtml;\n",
              "          element.appendChild(docLink);\n",
              "        }\n",
              "      </script>\n",
              "    </div>\n",
              "  </div>\n",
              "  "
            ]
          },
          "metadata": {},
          "execution_count": 7
        }
      ]
    },
    {
      "cell_type": "code",
      "source": [
        "# Añadimos las columnas tipo_motor y acabado extrayendo los datos de la columna descripción \n",
        "\n",
        "data['tipo_motor'] = data['descripcion'].str.split(expand = True)[0]\n",
        "data['acabado'] = data['descripcion'].str.split(expand = True)[1]\n",
        "data"
      ],
      "metadata": {
        "colab": {
          "base_uri": "https://localhost:8080/",
          "height": 424
        },
        "id": "psFtJSlKNKKd",
        "outputId": "db1a5283-7714-48ea-b62a-d9e584d21f55"
      },
      "execution_count": null,
      "outputs": [
        {
          "output_type": "execute_result",
          "data": {
            "text/plain": [
              "    antiguedad caja_cambios              descripcion  \\\n",
              "0     2015 reg       Manual                 3L M135i   \n",
              "1     2019 reg       Manual          1.5L Sport 118i   \n",
              "2     2018 reg       Manual        1.5L M Sport 216d   \n",
              "3     2019 reg       Manual             1.5L SE 218i   \n",
              "4     2017 reg       Manual            2L Sport 120i   \n",
              "..         ...          ...                      ...   \n",
              "542   2017 reg    Automatic          2L M Sport 420d   \n",
              "543   2017 reg    Automatic               2L SE 530i   \n",
              "544   2018 reg    Automatic  3L Shadow Edition M140i   \n",
              "545   2016 reg    Automatic          3L M Sport 335d   \n",
              "546   2019 reg    Automatic           2L M Sport 18d   \n",
              "\n",
              "                     marca_modelo        millas   motor precio_libra  años  \\\n",
              "0                  BMW, ,1 Series  67,907 miles  Petrol      £15,250     7   \n",
              "1                  BMW, ,1 Series  30,240 miles  Petrol      £15,300     3   \n",
              "2    BMW, ,2 Series Active Tourer  35,470 miles  Diesel      £15,300     4   \n",
              "3      BMW, ,2 Series Gran Tourer  38,509 miles  Petrol      £15,450     3   \n",
              "4                  BMW, ,1 Series  18,568 miles  Petrol      £15,450     5   \n",
              "..                            ...           ...     ...          ...   ...   \n",
              "542                BMW, ,4 Series  24,225 miles  Diesel      £23,250     5   \n",
              "543                BMW, ,5 Series  22,702 miles  Petrol      £23,250     5   \n",
              "544                BMW, ,1 Series  29,000 miles  Petrol      £23,250     4   \n",
              "545                BMW, ,3 Series  46,850 miles  Diesel      £23,250     6   \n",
              "546                      BMW, ,X2  24,236 miles  Diesel      £23,300     3   \n",
              "\n",
              "    tipo_motor acabado  \n",
              "0           3L   M135i  \n",
              "1         1.5L   Sport  \n",
              "2         1.5L       M  \n",
              "3         1.5L      SE  \n",
              "4           2L   Sport  \n",
              "..         ...     ...  \n",
              "542         2L       M  \n",
              "543         2L      SE  \n",
              "544         3L  Shadow  \n",
              "545         3L       M  \n",
              "546         2L       M  \n",
              "\n",
              "[546 rows x 10 columns]"
            ],
            "text/html": [
              "\n",
              "  <div id=\"df-2ddba843-a6ce-4042-a4eb-6cbd3b5c0edc\">\n",
              "    <div class=\"colab-df-container\">\n",
              "      <div>\n",
              "<style scoped>\n",
              "    .dataframe tbody tr th:only-of-type {\n",
              "        vertical-align: middle;\n",
              "    }\n",
              "\n",
              "    .dataframe tbody tr th {\n",
              "        vertical-align: top;\n",
              "    }\n",
              "\n",
              "    .dataframe thead th {\n",
              "        text-align: right;\n",
              "    }\n",
              "</style>\n",
              "<table border=\"1\" class=\"dataframe\">\n",
              "  <thead>\n",
              "    <tr style=\"text-align: right;\">\n",
              "      <th></th>\n",
              "      <th>antiguedad</th>\n",
              "      <th>caja_cambios</th>\n",
              "      <th>descripcion</th>\n",
              "      <th>marca_modelo</th>\n",
              "      <th>millas</th>\n",
              "      <th>motor</th>\n",
              "      <th>precio_libra</th>\n",
              "      <th>años</th>\n",
              "      <th>tipo_motor</th>\n",
              "      <th>acabado</th>\n",
              "    </tr>\n",
              "  </thead>\n",
              "  <tbody>\n",
              "    <tr>\n",
              "      <th>0</th>\n",
              "      <td>2015 reg</td>\n",
              "      <td>Manual</td>\n",
              "      <td>3L M135i</td>\n",
              "      <td>BMW, ,1 Series</td>\n",
              "      <td>67,907 miles</td>\n",
              "      <td>Petrol</td>\n",
              "      <td>£15,250</td>\n",
              "      <td>7</td>\n",
              "      <td>3L</td>\n",
              "      <td>M135i</td>\n",
              "    </tr>\n",
              "    <tr>\n",
              "      <th>1</th>\n",
              "      <td>2019 reg</td>\n",
              "      <td>Manual</td>\n",
              "      <td>1.5L Sport 118i</td>\n",
              "      <td>BMW, ,1 Series</td>\n",
              "      <td>30,240 miles</td>\n",
              "      <td>Petrol</td>\n",
              "      <td>£15,300</td>\n",
              "      <td>3</td>\n",
              "      <td>1.5L</td>\n",
              "      <td>Sport</td>\n",
              "    </tr>\n",
              "    <tr>\n",
              "      <th>2</th>\n",
              "      <td>2018 reg</td>\n",
              "      <td>Manual</td>\n",
              "      <td>1.5L M Sport 216d</td>\n",
              "      <td>BMW, ,2 Series Active Tourer</td>\n",
              "      <td>35,470 miles</td>\n",
              "      <td>Diesel</td>\n",
              "      <td>£15,300</td>\n",
              "      <td>4</td>\n",
              "      <td>1.5L</td>\n",
              "      <td>M</td>\n",
              "    </tr>\n",
              "    <tr>\n",
              "      <th>3</th>\n",
              "      <td>2019 reg</td>\n",
              "      <td>Manual</td>\n",
              "      <td>1.5L SE 218i</td>\n",
              "      <td>BMW, ,2 Series Gran Tourer</td>\n",
              "      <td>38,509 miles</td>\n",
              "      <td>Petrol</td>\n",
              "      <td>£15,450</td>\n",
              "      <td>3</td>\n",
              "      <td>1.5L</td>\n",
              "      <td>SE</td>\n",
              "    </tr>\n",
              "    <tr>\n",
              "      <th>4</th>\n",
              "      <td>2017 reg</td>\n",
              "      <td>Manual</td>\n",
              "      <td>2L Sport 120i</td>\n",
              "      <td>BMW, ,1 Series</td>\n",
              "      <td>18,568 miles</td>\n",
              "      <td>Petrol</td>\n",
              "      <td>£15,450</td>\n",
              "      <td>5</td>\n",
              "      <td>2L</td>\n",
              "      <td>Sport</td>\n",
              "    </tr>\n",
              "    <tr>\n",
              "      <th>...</th>\n",
              "      <td>...</td>\n",
              "      <td>...</td>\n",
              "      <td>...</td>\n",
              "      <td>...</td>\n",
              "      <td>...</td>\n",
              "      <td>...</td>\n",
              "      <td>...</td>\n",
              "      <td>...</td>\n",
              "      <td>...</td>\n",
              "      <td>...</td>\n",
              "    </tr>\n",
              "    <tr>\n",
              "      <th>542</th>\n",
              "      <td>2017 reg</td>\n",
              "      <td>Automatic</td>\n",
              "      <td>2L M Sport 420d</td>\n",
              "      <td>BMW, ,4 Series</td>\n",
              "      <td>24,225 miles</td>\n",
              "      <td>Diesel</td>\n",
              "      <td>£23,250</td>\n",
              "      <td>5</td>\n",
              "      <td>2L</td>\n",
              "      <td>M</td>\n",
              "    </tr>\n",
              "    <tr>\n",
              "      <th>543</th>\n",
              "      <td>2017 reg</td>\n",
              "      <td>Automatic</td>\n",
              "      <td>2L SE 530i</td>\n",
              "      <td>BMW, ,5 Series</td>\n",
              "      <td>22,702 miles</td>\n",
              "      <td>Petrol</td>\n",
              "      <td>£23,250</td>\n",
              "      <td>5</td>\n",
              "      <td>2L</td>\n",
              "      <td>SE</td>\n",
              "    </tr>\n",
              "    <tr>\n",
              "      <th>544</th>\n",
              "      <td>2018 reg</td>\n",
              "      <td>Automatic</td>\n",
              "      <td>3L Shadow Edition M140i</td>\n",
              "      <td>BMW, ,1 Series</td>\n",
              "      <td>29,000 miles</td>\n",
              "      <td>Petrol</td>\n",
              "      <td>£23,250</td>\n",
              "      <td>4</td>\n",
              "      <td>3L</td>\n",
              "      <td>Shadow</td>\n",
              "    </tr>\n",
              "    <tr>\n",
              "      <th>545</th>\n",
              "      <td>2016 reg</td>\n",
              "      <td>Automatic</td>\n",
              "      <td>3L M Sport 335d</td>\n",
              "      <td>BMW, ,3 Series</td>\n",
              "      <td>46,850 miles</td>\n",
              "      <td>Diesel</td>\n",
              "      <td>£23,250</td>\n",
              "      <td>6</td>\n",
              "      <td>3L</td>\n",
              "      <td>M</td>\n",
              "    </tr>\n",
              "    <tr>\n",
              "      <th>546</th>\n",
              "      <td>2019 reg</td>\n",
              "      <td>Automatic</td>\n",
              "      <td>2L M Sport 18d</td>\n",
              "      <td>BMW, ,X2</td>\n",
              "      <td>24,236 miles</td>\n",
              "      <td>Diesel</td>\n",
              "      <td>£23,300</td>\n",
              "      <td>3</td>\n",
              "      <td>2L</td>\n",
              "      <td>M</td>\n",
              "    </tr>\n",
              "  </tbody>\n",
              "</table>\n",
              "<p>546 rows × 10 columns</p>\n",
              "</div>\n",
              "      <button class=\"colab-df-convert\" onclick=\"convertToInteractive('df-2ddba843-a6ce-4042-a4eb-6cbd3b5c0edc')\"\n",
              "              title=\"Convert this dataframe to an interactive table.\"\n",
              "              style=\"display:none;\">\n",
              "        \n",
              "  <svg xmlns=\"http://www.w3.org/2000/svg\" height=\"24px\"viewBox=\"0 0 24 24\"\n",
              "       width=\"24px\">\n",
              "    <path d=\"M0 0h24v24H0V0z\" fill=\"none\"/>\n",
              "    <path d=\"M18.56 5.44l.94 2.06.94-2.06 2.06-.94-2.06-.94-.94-2.06-.94 2.06-2.06.94zm-11 1L8.5 8.5l.94-2.06 2.06-.94-2.06-.94L8.5 2.5l-.94 2.06-2.06.94zm10 10l.94 2.06.94-2.06 2.06-.94-2.06-.94-.94-2.06-.94 2.06-2.06.94z\"/><path d=\"M17.41 7.96l-1.37-1.37c-.4-.4-.92-.59-1.43-.59-.52 0-1.04.2-1.43.59L10.3 9.45l-7.72 7.72c-.78.78-.78 2.05 0 2.83L4 21.41c.39.39.9.59 1.41.59.51 0 1.02-.2 1.41-.59l7.78-7.78 2.81-2.81c.8-.78.8-2.07 0-2.86zM5.41 20L4 18.59l7.72-7.72 1.47 1.35L5.41 20z\"/>\n",
              "  </svg>\n",
              "      </button>\n",
              "      \n",
              "  <style>\n",
              "    .colab-df-container {\n",
              "      display:flex;\n",
              "      flex-wrap:wrap;\n",
              "      gap: 12px;\n",
              "    }\n",
              "\n",
              "    .colab-df-convert {\n",
              "      background-color: #E8F0FE;\n",
              "      border: none;\n",
              "      border-radius: 50%;\n",
              "      cursor: pointer;\n",
              "      display: none;\n",
              "      fill: #1967D2;\n",
              "      height: 32px;\n",
              "      padding: 0 0 0 0;\n",
              "      width: 32px;\n",
              "    }\n",
              "\n",
              "    .colab-df-convert:hover {\n",
              "      background-color: #E2EBFA;\n",
              "      box-shadow: 0px 1px 2px rgba(60, 64, 67, 0.3), 0px 1px 3px 1px rgba(60, 64, 67, 0.15);\n",
              "      fill: #174EA6;\n",
              "    }\n",
              "\n",
              "    [theme=dark] .colab-df-convert {\n",
              "      background-color: #3B4455;\n",
              "      fill: #D2E3FC;\n",
              "    }\n",
              "\n",
              "    [theme=dark] .colab-df-convert:hover {\n",
              "      background-color: #434B5C;\n",
              "      box-shadow: 0px 1px 3px 1px rgba(0, 0, 0, 0.15);\n",
              "      filter: drop-shadow(0px 1px 2px rgba(0, 0, 0, 0.3));\n",
              "      fill: #FFFFFF;\n",
              "    }\n",
              "  </style>\n",
              "\n",
              "      <script>\n",
              "        const buttonEl =\n",
              "          document.querySelector('#df-2ddba843-a6ce-4042-a4eb-6cbd3b5c0edc button.colab-df-convert');\n",
              "        buttonEl.style.display =\n",
              "          google.colab.kernel.accessAllowed ? 'block' : 'none';\n",
              "\n",
              "        async function convertToInteractive(key) {\n",
              "          const element = document.querySelector('#df-2ddba843-a6ce-4042-a4eb-6cbd3b5c0edc');\n",
              "          const dataTable =\n",
              "            await google.colab.kernel.invokeFunction('convertToInteractive',\n",
              "                                                     [key], {});\n",
              "          if (!dataTable) return;\n",
              "\n",
              "          const docLinkHtml = 'Like what you see? Visit the ' +\n",
              "            '<a target=\"_blank\" href=https://colab.research.google.com/notebooks/data_table.ipynb>data table notebook</a>'\n",
              "            + ' to learn more about interactive tables.';\n",
              "          element.innerHTML = '';\n",
              "          dataTable['output_type'] = 'display_data';\n",
              "          await google.colab.output.renderOutput(dataTable, element);\n",
              "          const docLink = document.createElement('div');\n",
              "          docLink.innerHTML = docLinkHtml;\n",
              "          element.appendChild(docLink);\n",
              "        }\n",
              "      </script>\n",
              "    </div>\n",
              "  </div>\n",
              "  "
            ]
          },
          "metadata": {},
          "execution_count": 8
        }
      ]
    },
    {
      "cell_type": "code",
      "source": [
        "# Cambiamos de millas a kilómetros en la columna kilometros --------------------\n",
        "\n",
        "data['kms'] = data['millas'].str.split(pat=' miles', expand=True)[0]\n",
        "data['kms'] = data['kms'].apply(lambda x : round(int(x.replace(',','')) * 1.60934, 2))\n",
        "data"
      ],
      "metadata": {
        "colab": {
          "base_uri": "https://localhost:8080/",
          "height": 424
        },
        "id": "DRKhcmCSSLJR",
        "outputId": "c20d4507-7851-4fd2-ae00-e3139ce34e56"
      },
      "execution_count": null,
      "outputs": [
        {
          "output_type": "execute_result",
          "data": {
            "text/plain": [
              "    antiguedad caja_cambios              descripcion  \\\n",
              "0     2015 reg       Manual                 3L M135i   \n",
              "1     2019 reg       Manual          1.5L Sport 118i   \n",
              "2     2018 reg       Manual        1.5L M Sport 216d   \n",
              "3     2019 reg       Manual             1.5L SE 218i   \n",
              "4     2017 reg       Manual            2L Sport 120i   \n",
              "..         ...          ...                      ...   \n",
              "542   2017 reg    Automatic          2L M Sport 420d   \n",
              "543   2017 reg    Automatic               2L SE 530i   \n",
              "544   2018 reg    Automatic  3L Shadow Edition M140i   \n",
              "545   2016 reg    Automatic          3L M Sport 335d   \n",
              "546   2019 reg    Automatic           2L M Sport 18d   \n",
              "\n",
              "                     marca_modelo        millas   motor precio_libra  años  \\\n",
              "0                  BMW, ,1 Series  67,907 miles  Petrol      £15,250     7   \n",
              "1                  BMW, ,1 Series  30,240 miles  Petrol      £15,300     3   \n",
              "2    BMW, ,2 Series Active Tourer  35,470 miles  Diesel      £15,300     4   \n",
              "3      BMW, ,2 Series Gran Tourer  38,509 miles  Petrol      £15,450     3   \n",
              "4                  BMW, ,1 Series  18,568 miles  Petrol      £15,450     5   \n",
              "..                            ...           ...     ...          ...   ...   \n",
              "542                BMW, ,4 Series  24,225 miles  Diesel      £23,250     5   \n",
              "543                BMW, ,5 Series  22,702 miles  Petrol      £23,250     5   \n",
              "544                BMW, ,1 Series  29,000 miles  Petrol      £23,250     4   \n",
              "545                BMW, ,3 Series  46,850 miles  Diesel      £23,250     6   \n",
              "546                      BMW, ,X2  24,236 miles  Diesel      £23,300     3   \n",
              "\n",
              "    tipo_motor acabado        kms  \n",
              "0           3L   M135i  109285.45  \n",
              "1         1.5L   Sport   48666.44  \n",
              "2         1.5L       M   57083.29  \n",
              "3         1.5L      SE   61974.07  \n",
              "4           2L   Sport   29882.23  \n",
              "..         ...     ...        ...  \n",
              "542         2L       M   38986.26  \n",
              "543         2L      SE   36535.24  \n",
              "544         3L  Shadow   46670.86  \n",
              "545         3L       M   75397.58  \n",
              "546         2L       M   39003.96  \n",
              "\n",
              "[546 rows x 11 columns]"
            ],
            "text/html": [
              "\n",
              "  <div id=\"df-d4366833-923f-4530-863a-12197653feb7\">\n",
              "    <div class=\"colab-df-container\">\n",
              "      <div>\n",
              "<style scoped>\n",
              "    .dataframe tbody tr th:only-of-type {\n",
              "        vertical-align: middle;\n",
              "    }\n",
              "\n",
              "    .dataframe tbody tr th {\n",
              "        vertical-align: top;\n",
              "    }\n",
              "\n",
              "    .dataframe thead th {\n",
              "        text-align: right;\n",
              "    }\n",
              "</style>\n",
              "<table border=\"1\" class=\"dataframe\">\n",
              "  <thead>\n",
              "    <tr style=\"text-align: right;\">\n",
              "      <th></th>\n",
              "      <th>antiguedad</th>\n",
              "      <th>caja_cambios</th>\n",
              "      <th>descripcion</th>\n",
              "      <th>marca_modelo</th>\n",
              "      <th>millas</th>\n",
              "      <th>motor</th>\n",
              "      <th>precio_libra</th>\n",
              "      <th>años</th>\n",
              "      <th>tipo_motor</th>\n",
              "      <th>acabado</th>\n",
              "      <th>kms</th>\n",
              "    </tr>\n",
              "  </thead>\n",
              "  <tbody>\n",
              "    <tr>\n",
              "      <th>0</th>\n",
              "      <td>2015 reg</td>\n",
              "      <td>Manual</td>\n",
              "      <td>3L M135i</td>\n",
              "      <td>BMW, ,1 Series</td>\n",
              "      <td>67,907 miles</td>\n",
              "      <td>Petrol</td>\n",
              "      <td>£15,250</td>\n",
              "      <td>7</td>\n",
              "      <td>3L</td>\n",
              "      <td>M135i</td>\n",
              "      <td>109285.45</td>\n",
              "    </tr>\n",
              "    <tr>\n",
              "      <th>1</th>\n",
              "      <td>2019 reg</td>\n",
              "      <td>Manual</td>\n",
              "      <td>1.5L Sport 118i</td>\n",
              "      <td>BMW, ,1 Series</td>\n",
              "      <td>30,240 miles</td>\n",
              "      <td>Petrol</td>\n",
              "      <td>£15,300</td>\n",
              "      <td>3</td>\n",
              "      <td>1.5L</td>\n",
              "      <td>Sport</td>\n",
              "      <td>48666.44</td>\n",
              "    </tr>\n",
              "    <tr>\n",
              "      <th>2</th>\n",
              "      <td>2018 reg</td>\n",
              "      <td>Manual</td>\n",
              "      <td>1.5L M Sport 216d</td>\n",
              "      <td>BMW, ,2 Series Active Tourer</td>\n",
              "      <td>35,470 miles</td>\n",
              "      <td>Diesel</td>\n",
              "      <td>£15,300</td>\n",
              "      <td>4</td>\n",
              "      <td>1.5L</td>\n",
              "      <td>M</td>\n",
              "      <td>57083.29</td>\n",
              "    </tr>\n",
              "    <tr>\n",
              "      <th>3</th>\n",
              "      <td>2019 reg</td>\n",
              "      <td>Manual</td>\n",
              "      <td>1.5L SE 218i</td>\n",
              "      <td>BMW, ,2 Series Gran Tourer</td>\n",
              "      <td>38,509 miles</td>\n",
              "      <td>Petrol</td>\n",
              "      <td>£15,450</td>\n",
              "      <td>3</td>\n",
              "      <td>1.5L</td>\n",
              "      <td>SE</td>\n",
              "      <td>61974.07</td>\n",
              "    </tr>\n",
              "    <tr>\n",
              "      <th>4</th>\n",
              "      <td>2017 reg</td>\n",
              "      <td>Manual</td>\n",
              "      <td>2L Sport 120i</td>\n",
              "      <td>BMW, ,1 Series</td>\n",
              "      <td>18,568 miles</td>\n",
              "      <td>Petrol</td>\n",
              "      <td>£15,450</td>\n",
              "      <td>5</td>\n",
              "      <td>2L</td>\n",
              "      <td>Sport</td>\n",
              "      <td>29882.23</td>\n",
              "    </tr>\n",
              "    <tr>\n",
              "      <th>...</th>\n",
              "      <td>...</td>\n",
              "      <td>...</td>\n",
              "      <td>...</td>\n",
              "      <td>...</td>\n",
              "      <td>...</td>\n",
              "      <td>...</td>\n",
              "      <td>...</td>\n",
              "      <td>...</td>\n",
              "      <td>...</td>\n",
              "      <td>...</td>\n",
              "      <td>...</td>\n",
              "    </tr>\n",
              "    <tr>\n",
              "      <th>542</th>\n",
              "      <td>2017 reg</td>\n",
              "      <td>Automatic</td>\n",
              "      <td>2L M Sport 420d</td>\n",
              "      <td>BMW, ,4 Series</td>\n",
              "      <td>24,225 miles</td>\n",
              "      <td>Diesel</td>\n",
              "      <td>£23,250</td>\n",
              "      <td>5</td>\n",
              "      <td>2L</td>\n",
              "      <td>M</td>\n",
              "      <td>38986.26</td>\n",
              "    </tr>\n",
              "    <tr>\n",
              "      <th>543</th>\n",
              "      <td>2017 reg</td>\n",
              "      <td>Automatic</td>\n",
              "      <td>2L SE 530i</td>\n",
              "      <td>BMW, ,5 Series</td>\n",
              "      <td>22,702 miles</td>\n",
              "      <td>Petrol</td>\n",
              "      <td>£23,250</td>\n",
              "      <td>5</td>\n",
              "      <td>2L</td>\n",
              "      <td>SE</td>\n",
              "      <td>36535.24</td>\n",
              "    </tr>\n",
              "    <tr>\n",
              "      <th>544</th>\n",
              "      <td>2018 reg</td>\n",
              "      <td>Automatic</td>\n",
              "      <td>3L Shadow Edition M140i</td>\n",
              "      <td>BMW, ,1 Series</td>\n",
              "      <td>29,000 miles</td>\n",
              "      <td>Petrol</td>\n",
              "      <td>£23,250</td>\n",
              "      <td>4</td>\n",
              "      <td>3L</td>\n",
              "      <td>Shadow</td>\n",
              "      <td>46670.86</td>\n",
              "    </tr>\n",
              "    <tr>\n",
              "      <th>545</th>\n",
              "      <td>2016 reg</td>\n",
              "      <td>Automatic</td>\n",
              "      <td>3L M Sport 335d</td>\n",
              "      <td>BMW, ,3 Series</td>\n",
              "      <td>46,850 miles</td>\n",
              "      <td>Diesel</td>\n",
              "      <td>£23,250</td>\n",
              "      <td>6</td>\n",
              "      <td>3L</td>\n",
              "      <td>M</td>\n",
              "      <td>75397.58</td>\n",
              "    </tr>\n",
              "    <tr>\n",
              "      <th>546</th>\n",
              "      <td>2019 reg</td>\n",
              "      <td>Automatic</td>\n",
              "      <td>2L M Sport 18d</td>\n",
              "      <td>BMW, ,X2</td>\n",
              "      <td>24,236 miles</td>\n",
              "      <td>Diesel</td>\n",
              "      <td>£23,300</td>\n",
              "      <td>3</td>\n",
              "      <td>2L</td>\n",
              "      <td>M</td>\n",
              "      <td>39003.96</td>\n",
              "    </tr>\n",
              "  </tbody>\n",
              "</table>\n",
              "<p>546 rows × 11 columns</p>\n",
              "</div>\n",
              "      <button class=\"colab-df-convert\" onclick=\"convertToInteractive('df-d4366833-923f-4530-863a-12197653feb7')\"\n",
              "              title=\"Convert this dataframe to an interactive table.\"\n",
              "              style=\"display:none;\">\n",
              "        \n",
              "  <svg xmlns=\"http://www.w3.org/2000/svg\" height=\"24px\"viewBox=\"0 0 24 24\"\n",
              "       width=\"24px\">\n",
              "    <path d=\"M0 0h24v24H0V0z\" fill=\"none\"/>\n",
              "    <path d=\"M18.56 5.44l.94 2.06.94-2.06 2.06-.94-2.06-.94-.94-2.06-.94 2.06-2.06.94zm-11 1L8.5 8.5l.94-2.06 2.06-.94-2.06-.94L8.5 2.5l-.94 2.06-2.06.94zm10 10l.94 2.06.94-2.06 2.06-.94-2.06-.94-.94-2.06-.94 2.06-2.06.94z\"/><path d=\"M17.41 7.96l-1.37-1.37c-.4-.4-.92-.59-1.43-.59-.52 0-1.04.2-1.43.59L10.3 9.45l-7.72 7.72c-.78.78-.78 2.05 0 2.83L4 21.41c.39.39.9.59 1.41.59.51 0 1.02-.2 1.41-.59l7.78-7.78 2.81-2.81c.8-.78.8-2.07 0-2.86zM5.41 20L4 18.59l7.72-7.72 1.47 1.35L5.41 20z\"/>\n",
              "  </svg>\n",
              "      </button>\n",
              "      \n",
              "  <style>\n",
              "    .colab-df-container {\n",
              "      display:flex;\n",
              "      flex-wrap:wrap;\n",
              "      gap: 12px;\n",
              "    }\n",
              "\n",
              "    .colab-df-convert {\n",
              "      background-color: #E8F0FE;\n",
              "      border: none;\n",
              "      border-radius: 50%;\n",
              "      cursor: pointer;\n",
              "      display: none;\n",
              "      fill: #1967D2;\n",
              "      height: 32px;\n",
              "      padding: 0 0 0 0;\n",
              "      width: 32px;\n",
              "    }\n",
              "\n",
              "    .colab-df-convert:hover {\n",
              "      background-color: #E2EBFA;\n",
              "      box-shadow: 0px 1px 2px rgba(60, 64, 67, 0.3), 0px 1px 3px 1px rgba(60, 64, 67, 0.15);\n",
              "      fill: #174EA6;\n",
              "    }\n",
              "\n",
              "    [theme=dark] .colab-df-convert {\n",
              "      background-color: #3B4455;\n",
              "      fill: #D2E3FC;\n",
              "    }\n",
              "\n",
              "    [theme=dark] .colab-df-convert:hover {\n",
              "      background-color: #434B5C;\n",
              "      box-shadow: 0px 1px 3px 1px rgba(0, 0, 0, 0.15);\n",
              "      filter: drop-shadow(0px 1px 2px rgba(0, 0, 0, 0.3));\n",
              "      fill: #FFFFFF;\n",
              "    }\n",
              "  </style>\n",
              "\n",
              "      <script>\n",
              "        const buttonEl =\n",
              "          document.querySelector('#df-d4366833-923f-4530-863a-12197653feb7 button.colab-df-convert');\n",
              "        buttonEl.style.display =\n",
              "          google.colab.kernel.accessAllowed ? 'block' : 'none';\n",
              "\n",
              "        async function convertToInteractive(key) {\n",
              "          const element = document.querySelector('#df-d4366833-923f-4530-863a-12197653feb7');\n",
              "          const dataTable =\n",
              "            await google.colab.kernel.invokeFunction('convertToInteractive',\n",
              "                                                     [key], {});\n",
              "          if (!dataTable) return;\n",
              "\n",
              "          const docLinkHtml = 'Like what you see? Visit the ' +\n",
              "            '<a target=\"_blank\" href=https://colab.research.google.com/notebooks/data_table.ipynb>data table notebook</a>'\n",
              "            + ' to learn more about interactive tables.';\n",
              "          element.innerHTML = '';\n",
              "          dataTable['output_type'] = 'display_data';\n",
              "          await google.colab.output.renderOutput(dataTable, element);\n",
              "          const docLink = document.createElement('div');\n",
              "          docLink.innerHTML = docLinkHtml;\n",
              "          element.appendChild(docLink);\n",
              "        }\n",
              "      </script>\n",
              "    </div>\n",
              "  </div>\n",
              "  "
            ]
          },
          "metadata": {},
          "execution_count": 9
        }
      ]
    },
    {
      "cell_type": "code",
      "source": [
        "# Extraemos la marca de la columna modelo --------------------------------------\n",
        "\n",
        "data['marca'] = data['marca_modelo'].str.split(pat=',', expand=True)[0]\n",
        "data['modelo'] = data['marca_modelo'].str.split(pat=',', expand=True)[2]\n",
        "data"
      ],
      "metadata": {
        "colab": {
          "base_uri": "https://localhost:8080/",
          "height": 424
        },
        "id": "3RCFowT1eJnK",
        "outputId": "feafdc7e-1fc4-4062-a8e3-140e2f320c7c"
      },
      "execution_count": null,
      "outputs": [
        {
          "output_type": "execute_result",
          "data": {
            "text/plain": [
              "    antiguedad caja_cambios              descripcion  \\\n",
              "0     2015 reg       Manual                 3L M135i   \n",
              "1     2019 reg       Manual          1.5L Sport 118i   \n",
              "2     2018 reg       Manual        1.5L M Sport 216d   \n",
              "3     2019 reg       Manual             1.5L SE 218i   \n",
              "4     2017 reg       Manual            2L Sport 120i   \n",
              "..         ...          ...                      ...   \n",
              "542   2017 reg    Automatic          2L M Sport 420d   \n",
              "543   2017 reg    Automatic               2L SE 530i   \n",
              "544   2018 reg    Automatic  3L Shadow Edition M140i   \n",
              "545   2016 reg    Automatic          3L M Sport 335d   \n",
              "546   2019 reg    Automatic           2L M Sport 18d   \n",
              "\n",
              "                     marca_modelo        millas   motor precio_libra  años  \\\n",
              "0                  BMW, ,1 Series  67,907 miles  Petrol      £15,250     7   \n",
              "1                  BMW, ,1 Series  30,240 miles  Petrol      £15,300     3   \n",
              "2    BMW, ,2 Series Active Tourer  35,470 miles  Diesel      £15,300     4   \n",
              "3      BMW, ,2 Series Gran Tourer  38,509 miles  Petrol      £15,450     3   \n",
              "4                  BMW, ,1 Series  18,568 miles  Petrol      £15,450     5   \n",
              "..                            ...           ...     ...          ...   ...   \n",
              "542                BMW, ,4 Series  24,225 miles  Diesel      £23,250     5   \n",
              "543                BMW, ,5 Series  22,702 miles  Petrol      £23,250     5   \n",
              "544                BMW, ,1 Series  29,000 miles  Petrol      £23,250     4   \n",
              "545                BMW, ,3 Series  46,850 miles  Diesel      £23,250     6   \n",
              "546                      BMW, ,X2  24,236 miles  Diesel      £23,300     3   \n",
              "\n",
              "    tipo_motor acabado        kms marca                  modelo  \n",
              "0           3L   M135i  109285.45   BMW                1 Series  \n",
              "1         1.5L   Sport   48666.44   BMW                1 Series  \n",
              "2         1.5L       M   57083.29   BMW  2 Series Active Tourer  \n",
              "3         1.5L      SE   61974.07   BMW    2 Series Gran Tourer  \n",
              "4           2L   Sport   29882.23   BMW                1 Series  \n",
              "..         ...     ...        ...   ...                     ...  \n",
              "542         2L       M   38986.26   BMW                4 Series  \n",
              "543         2L      SE   36535.24   BMW                5 Series  \n",
              "544         3L  Shadow   46670.86   BMW                1 Series  \n",
              "545         3L       M   75397.58   BMW                3 Series  \n",
              "546         2L       M   39003.96   BMW                      X2  \n",
              "\n",
              "[546 rows x 13 columns]"
            ],
            "text/html": [
              "\n",
              "  <div id=\"df-de5975da-c5c7-42d8-a4e7-acbfb7d35de6\">\n",
              "    <div class=\"colab-df-container\">\n",
              "      <div>\n",
              "<style scoped>\n",
              "    .dataframe tbody tr th:only-of-type {\n",
              "        vertical-align: middle;\n",
              "    }\n",
              "\n",
              "    .dataframe tbody tr th {\n",
              "        vertical-align: top;\n",
              "    }\n",
              "\n",
              "    .dataframe thead th {\n",
              "        text-align: right;\n",
              "    }\n",
              "</style>\n",
              "<table border=\"1\" class=\"dataframe\">\n",
              "  <thead>\n",
              "    <tr style=\"text-align: right;\">\n",
              "      <th></th>\n",
              "      <th>antiguedad</th>\n",
              "      <th>caja_cambios</th>\n",
              "      <th>descripcion</th>\n",
              "      <th>marca_modelo</th>\n",
              "      <th>millas</th>\n",
              "      <th>motor</th>\n",
              "      <th>precio_libra</th>\n",
              "      <th>años</th>\n",
              "      <th>tipo_motor</th>\n",
              "      <th>acabado</th>\n",
              "      <th>kms</th>\n",
              "      <th>marca</th>\n",
              "      <th>modelo</th>\n",
              "    </tr>\n",
              "  </thead>\n",
              "  <tbody>\n",
              "    <tr>\n",
              "      <th>0</th>\n",
              "      <td>2015 reg</td>\n",
              "      <td>Manual</td>\n",
              "      <td>3L M135i</td>\n",
              "      <td>BMW, ,1 Series</td>\n",
              "      <td>67,907 miles</td>\n",
              "      <td>Petrol</td>\n",
              "      <td>£15,250</td>\n",
              "      <td>7</td>\n",
              "      <td>3L</td>\n",
              "      <td>M135i</td>\n",
              "      <td>109285.45</td>\n",
              "      <td>BMW</td>\n",
              "      <td>1 Series</td>\n",
              "    </tr>\n",
              "    <tr>\n",
              "      <th>1</th>\n",
              "      <td>2019 reg</td>\n",
              "      <td>Manual</td>\n",
              "      <td>1.5L Sport 118i</td>\n",
              "      <td>BMW, ,1 Series</td>\n",
              "      <td>30,240 miles</td>\n",
              "      <td>Petrol</td>\n",
              "      <td>£15,300</td>\n",
              "      <td>3</td>\n",
              "      <td>1.5L</td>\n",
              "      <td>Sport</td>\n",
              "      <td>48666.44</td>\n",
              "      <td>BMW</td>\n",
              "      <td>1 Series</td>\n",
              "    </tr>\n",
              "    <tr>\n",
              "      <th>2</th>\n",
              "      <td>2018 reg</td>\n",
              "      <td>Manual</td>\n",
              "      <td>1.5L M Sport 216d</td>\n",
              "      <td>BMW, ,2 Series Active Tourer</td>\n",
              "      <td>35,470 miles</td>\n",
              "      <td>Diesel</td>\n",
              "      <td>£15,300</td>\n",
              "      <td>4</td>\n",
              "      <td>1.5L</td>\n",
              "      <td>M</td>\n",
              "      <td>57083.29</td>\n",
              "      <td>BMW</td>\n",
              "      <td>2 Series Active Tourer</td>\n",
              "    </tr>\n",
              "    <tr>\n",
              "      <th>3</th>\n",
              "      <td>2019 reg</td>\n",
              "      <td>Manual</td>\n",
              "      <td>1.5L SE 218i</td>\n",
              "      <td>BMW, ,2 Series Gran Tourer</td>\n",
              "      <td>38,509 miles</td>\n",
              "      <td>Petrol</td>\n",
              "      <td>£15,450</td>\n",
              "      <td>3</td>\n",
              "      <td>1.5L</td>\n",
              "      <td>SE</td>\n",
              "      <td>61974.07</td>\n",
              "      <td>BMW</td>\n",
              "      <td>2 Series Gran Tourer</td>\n",
              "    </tr>\n",
              "    <tr>\n",
              "      <th>4</th>\n",
              "      <td>2017 reg</td>\n",
              "      <td>Manual</td>\n",
              "      <td>2L Sport 120i</td>\n",
              "      <td>BMW, ,1 Series</td>\n",
              "      <td>18,568 miles</td>\n",
              "      <td>Petrol</td>\n",
              "      <td>£15,450</td>\n",
              "      <td>5</td>\n",
              "      <td>2L</td>\n",
              "      <td>Sport</td>\n",
              "      <td>29882.23</td>\n",
              "      <td>BMW</td>\n",
              "      <td>1 Series</td>\n",
              "    </tr>\n",
              "    <tr>\n",
              "      <th>...</th>\n",
              "      <td>...</td>\n",
              "      <td>...</td>\n",
              "      <td>...</td>\n",
              "      <td>...</td>\n",
              "      <td>...</td>\n",
              "      <td>...</td>\n",
              "      <td>...</td>\n",
              "      <td>...</td>\n",
              "      <td>...</td>\n",
              "      <td>...</td>\n",
              "      <td>...</td>\n",
              "      <td>...</td>\n",
              "      <td>...</td>\n",
              "    </tr>\n",
              "    <tr>\n",
              "      <th>542</th>\n",
              "      <td>2017 reg</td>\n",
              "      <td>Automatic</td>\n",
              "      <td>2L M Sport 420d</td>\n",
              "      <td>BMW, ,4 Series</td>\n",
              "      <td>24,225 miles</td>\n",
              "      <td>Diesel</td>\n",
              "      <td>£23,250</td>\n",
              "      <td>5</td>\n",
              "      <td>2L</td>\n",
              "      <td>M</td>\n",
              "      <td>38986.26</td>\n",
              "      <td>BMW</td>\n",
              "      <td>4 Series</td>\n",
              "    </tr>\n",
              "    <tr>\n",
              "      <th>543</th>\n",
              "      <td>2017 reg</td>\n",
              "      <td>Automatic</td>\n",
              "      <td>2L SE 530i</td>\n",
              "      <td>BMW, ,5 Series</td>\n",
              "      <td>22,702 miles</td>\n",
              "      <td>Petrol</td>\n",
              "      <td>£23,250</td>\n",
              "      <td>5</td>\n",
              "      <td>2L</td>\n",
              "      <td>SE</td>\n",
              "      <td>36535.24</td>\n",
              "      <td>BMW</td>\n",
              "      <td>5 Series</td>\n",
              "    </tr>\n",
              "    <tr>\n",
              "      <th>544</th>\n",
              "      <td>2018 reg</td>\n",
              "      <td>Automatic</td>\n",
              "      <td>3L Shadow Edition M140i</td>\n",
              "      <td>BMW, ,1 Series</td>\n",
              "      <td>29,000 miles</td>\n",
              "      <td>Petrol</td>\n",
              "      <td>£23,250</td>\n",
              "      <td>4</td>\n",
              "      <td>3L</td>\n",
              "      <td>Shadow</td>\n",
              "      <td>46670.86</td>\n",
              "      <td>BMW</td>\n",
              "      <td>1 Series</td>\n",
              "    </tr>\n",
              "    <tr>\n",
              "      <th>545</th>\n",
              "      <td>2016 reg</td>\n",
              "      <td>Automatic</td>\n",
              "      <td>3L M Sport 335d</td>\n",
              "      <td>BMW, ,3 Series</td>\n",
              "      <td>46,850 miles</td>\n",
              "      <td>Diesel</td>\n",
              "      <td>£23,250</td>\n",
              "      <td>6</td>\n",
              "      <td>3L</td>\n",
              "      <td>M</td>\n",
              "      <td>75397.58</td>\n",
              "      <td>BMW</td>\n",
              "      <td>3 Series</td>\n",
              "    </tr>\n",
              "    <tr>\n",
              "      <th>546</th>\n",
              "      <td>2019 reg</td>\n",
              "      <td>Automatic</td>\n",
              "      <td>2L M Sport 18d</td>\n",
              "      <td>BMW, ,X2</td>\n",
              "      <td>24,236 miles</td>\n",
              "      <td>Diesel</td>\n",
              "      <td>£23,300</td>\n",
              "      <td>3</td>\n",
              "      <td>2L</td>\n",
              "      <td>M</td>\n",
              "      <td>39003.96</td>\n",
              "      <td>BMW</td>\n",
              "      <td>X2</td>\n",
              "    </tr>\n",
              "  </tbody>\n",
              "</table>\n",
              "<p>546 rows × 13 columns</p>\n",
              "</div>\n",
              "      <button class=\"colab-df-convert\" onclick=\"convertToInteractive('df-de5975da-c5c7-42d8-a4e7-acbfb7d35de6')\"\n",
              "              title=\"Convert this dataframe to an interactive table.\"\n",
              "              style=\"display:none;\">\n",
              "        \n",
              "  <svg xmlns=\"http://www.w3.org/2000/svg\" height=\"24px\"viewBox=\"0 0 24 24\"\n",
              "       width=\"24px\">\n",
              "    <path d=\"M0 0h24v24H0V0z\" fill=\"none\"/>\n",
              "    <path d=\"M18.56 5.44l.94 2.06.94-2.06 2.06-.94-2.06-.94-.94-2.06-.94 2.06-2.06.94zm-11 1L8.5 8.5l.94-2.06 2.06-.94-2.06-.94L8.5 2.5l-.94 2.06-2.06.94zm10 10l.94 2.06.94-2.06 2.06-.94-2.06-.94-.94-2.06-.94 2.06-2.06.94z\"/><path d=\"M17.41 7.96l-1.37-1.37c-.4-.4-.92-.59-1.43-.59-.52 0-1.04.2-1.43.59L10.3 9.45l-7.72 7.72c-.78.78-.78 2.05 0 2.83L4 21.41c.39.39.9.59 1.41.59.51 0 1.02-.2 1.41-.59l7.78-7.78 2.81-2.81c.8-.78.8-2.07 0-2.86zM5.41 20L4 18.59l7.72-7.72 1.47 1.35L5.41 20z\"/>\n",
              "  </svg>\n",
              "      </button>\n",
              "      \n",
              "  <style>\n",
              "    .colab-df-container {\n",
              "      display:flex;\n",
              "      flex-wrap:wrap;\n",
              "      gap: 12px;\n",
              "    }\n",
              "\n",
              "    .colab-df-convert {\n",
              "      background-color: #E8F0FE;\n",
              "      border: none;\n",
              "      border-radius: 50%;\n",
              "      cursor: pointer;\n",
              "      display: none;\n",
              "      fill: #1967D2;\n",
              "      height: 32px;\n",
              "      padding: 0 0 0 0;\n",
              "      width: 32px;\n",
              "    }\n",
              "\n",
              "    .colab-df-convert:hover {\n",
              "      background-color: #E2EBFA;\n",
              "      box-shadow: 0px 1px 2px rgba(60, 64, 67, 0.3), 0px 1px 3px 1px rgba(60, 64, 67, 0.15);\n",
              "      fill: #174EA6;\n",
              "    }\n",
              "\n",
              "    [theme=dark] .colab-df-convert {\n",
              "      background-color: #3B4455;\n",
              "      fill: #D2E3FC;\n",
              "    }\n",
              "\n",
              "    [theme=dark] .colab-df-convert:hover {\n",
              "      background-color: #434B5C;\n",
              "      box-shadow: 0px 1px 3px 1px rgba(0, 0, 0, 0.15);\n",
              "      filter: drop-shadow(0px 1px 2px rgba(0, 0, 0, 0.3));\n",
              "      fill: #FFFFFF;\n",
              "    }\n",
              "  </style>\n",
              "\n",
              "      <script>\n",
              "        const buttonEl =\n",
              "          document.querySelector('#df-de5975da-c5c7-42d8-a4e7-acbfb7d35de6 button.colab-df-convert');\n",
              "        buttonEl.style.display =\n",
              "          google.colab.kernel.accessAllowed ? 'block' : 'none';\n",
              "\n",
              "        async function convertToInteractive(key) {\n",
              "          const element = document.querySelector('#df-de5975da-c5c7-42d8-a4e7-acbfb7d35de6');\n",
              "          const dataTable =\n",
              "            await google.colab.kernel.invokeFunction('convertToInteractive',\n",
              "                                                     [key], {});\n",
              "          if (!dataTable) return;\n",
              "\n",
              "          const docLinkHtml = 'Like what you see? Visit the ' +\n",
              "            '<a target=\"_blank\" href=https://colab.research.google.com/notebooks/data_table.ipynb>data table notebook</a>'\n",
              "            + ' to learn more about interactive tables.';\n",
              "          element.innerHTML = '';\n",
              "          dataTable['output_type'] = 'display_data';\n",
              "          await google.colab.output.renderOutput(dataTable, element);\n",
              "          const docLink = document.createElement('div');\n",
              "          docLink.innerHTML = docLinkHtml;\n",
              "          element.appendChild(docLink);\n",
              "        }\n",
              "      </script>\n",
              "    </div>\n",
              "  </div>\n",
              "  "
            ]
          },
          "metadata": {},
          "execution_count": 10
        }
      ]
    },
    {
      "cell_type": "code",
      "source": [
        "# Convertimos la columna precio de libras a euros ------------------------------\n",
        "\n",
        "data['precio_euro'] = data['precio_libra'].apply(lambda x: int(x[1:].replace(',','')) * 1.18)\n",
        "data"
      ],
      "metadata": {
        "colab": {
          "base_uri": "https://localhost:8080/",
          "height": 424
        },
        "id": "ze9N6jvvjZyL",
        "outputId": "55f81d39-9de7-4d9d-853b-6d8d208796a1"
      },
      "execution_count": null,
      "outputs": [
        {
          "output_type": "execute_result",
          "data": {
            "text/plain": [
              "    antiguedad caja_cambios              descripcion  \\\n",
              "0     2015 reg       Manual                 3L M135i   \n",
              "1     2019 reg       Manual          1.5L Sport 118i   \n",
              "2     2018 reg       Manual        1.5L M Sport 216d   \n",
              "3     2019 reg       Manual             1.5L SE 218i   \n",
              "4     2017 reg       Manual            2L Sport 120i   \n",
              "..         ...          ...                      ...   \n",
              "542   2017 reg    Automatic          2L M Sport 420d   \n",
              "543   2017 reg    Automatic               2L SE 530i   \n",
              "544   2018 reg    Automatic  3L Shadow Edition M140i   \n",
              "545   2016 reg    Automatic          3L M Sport 335d   \n",
              "546   2019 reg    Automatic           2L M Sport 18d   \n",
              "\n",
              "                     marca_modelo        millas   motor precio_libra  años  \\\n",
              "0                  BMW, ,1 Series  67,907 miles  Petrol      £15,250     7   \n",
              "1                  BMW, ,1 Series  30,240 miles  Petrol      £15,300     3   \n",
              "2    BMW, ,2 Series Active Tourer  35,470 miles  Diesel      £15,300     4   \n",
              "3      BMW, ,2 Series Gran Tourer  38,509 miles  Petrol      £15,450     3   \n",
              "4                  BMW, ,1 Series  18,568 miles  Petrol      £15,450     5   \n",
              "..                            ...           ...     ...          ...   ...   \n",
              "542                BMW, ,4 Series  24,225 miles  Diesel      £23,250     5   \n",
              "543                BMW, ,5 Series  22,702 miles  Petrol      £23,250     5   \n",
              "544                BMW, ,1 Series  29,000 miles  Petrol      £23,250     4   \n",
              "545                BMW, ,3 Series  46,850 miles  Diesel      £23,250     6   \n",
              "546                      BMW, ,X2  24,236 miles  Diesel      £23,300     3   \n",
              "\n",
              "    tipo_motor acabado        kms marca                  modelo  precio_euro  \n",
              "0           3L   M135i  109285.45   BMW                1 Series      17995.0  \n",
              "1         1.5L   Sport   48666.44   BMW                1 Series      18054.0  \n",
              "2         1.5L       M   57083.29   BMW  2 Series Active Tourer      18054.0  \n",
              "3         1.5L      SE   61974.07   BMW    2 Series Gran Tourer      18231.0  \n",
              "4           2L   Sport   29882.23   BMW                1 Series      18231.0  \n",
              "..         ...     ...        ...   ...                     ...          ...  \n",
              "542         2L       M   38986.26   BMW                4 Series      27435.0  \n",
              "543         2L      SE   36535.24   BMW                5 Series      27435.0  \n",
              "544         3L  Shadow   46670.86   BMW                1 Series      27435.0  \n",
              "545         3L       M   75397.58   BMW                3 Series      27435.0  \n",
              "546         2L       M   39003.96   BMW                      X2      27494.0  \n",
              "\n",
              "[546 rows x 14 columns]"
            ],
            "text/html": [
              "\n",
              "  <div id=\"df-ee4f5f2f-4891-4435-a350-3ab08566e19b\">\n",
              "    <div class=\"colab-df-container\">\n",
              "      <div>\n",
              "<style scoped>\n",
              "    .dataframe tbody tr th:only-of-type {\n",
              "        vertical-align: middle;\n",
              "    }\n",
              "\n",
              "    .dataframe tbody tr th {\n",
              "        vertical-align: top;\n",
              "    }\n",
              "\n",
              "    .dataframe thead th {\n",
              "        text-align: right;\n",
              "    }\n",
              "</style>\n",
              "<table border=\"1\" class=\"dataframe\">\n",
              "  <thead>\n",
              "    <tr style=\"text-align: right;\">\n",
              "      <th></th>\n",
              "      <th>antiguedad</th>\n",
              "      <th>caja_cambios</th>\n",
              "      <th>descripcion</th>\n",
              "      <th>marca_modelo</th>\n",
              "      <th>millas</th>\n",
              "      <th>motor</th>\n",
              "      <th>precio_libra</th>\n",
              "      <th>años</th>\n",
              "      <th>tipo_motor</th>\n",
              "      <th>acabado</th>\n",
              "      <th>kms</th>\n",
              "      <th>marca</th>\n",
              "      <th>modelo</th>\n",
              "      <th>precio_euro</th>\n",
              "    </tr>\n",
              "  </thead>\n",
              "  <tbody>\n",
              "    <tr>\n",
              "      <th>0</th>\n",
              "      <td>2015 reg</td>\n",
              "      <td>Manual</td>\n",
              "      <td>3L M135i</td>\n",
              "      <td>BMW, ,1 Series</td>\n",
              "      <td>67,907 miles</td>\n",
              "      <td>Petrol</td>\n",
              "      <td>£15,250</td>\n",
              "      <td>7</td>\n",
              "      <td>3L</td>\n",
              "      <td>M135i</td>\n",
              "      <td>109285.45</td>\n",
              "      <td>BMW</td>\n",
              "      <td>1 Series</td>\n",
              "      <td>17995.0</td>\n",
              "    </tr>\n",
              "    <tr>\n",
              "      <th>1</th>\n",
              "      <td>2019 reg</td>\n",
              "      <td>Manual</td>\n",
              "      <td>1.5L Sport 118i</td>\n",
              "      <td>BMW, ,1 Series</td>\n",
              "      <td>30,240 miles</td>\n",
              "      <td>Petrol</td>\n",
              "      <td>£15,300</td>\n",
              "      <td>3</td>\n",
              "      <td>1.5L</td>\n",
              "      <td>Sport</td>\n",
              "      <td>48666.44</td>\n",
              "      <td>BMW</td>\n",
              "      <td>1 Series</td>\n",
              "      <td>18054.0</td>\n",
              "    </tr>\n",
              "    <tr>\n",
              "      <th>2</th>\n",
              "      <td>2018 reg</td>\n",
              "      <td>Manual</td>\n",
              "      <td>1.5L M Sport 216d</td>\n",
              "      <td>BMW, ,2 Series Active Tourer</td>\n",
              "      <td>35,470 miles</td>\n",
              "      <td>Diesel</td>\n",
              "      <td>£15,300</td>\n",
              "      <td>4</td>\n",
              "      <td>1.5L</td>\n",
              "      <td>M</td>\n",
              "      <td>57083.29</td>\n",
              "      <td>BMW</td>\n",
              "      <td>2 Series Active Tourer</td>\n",
              "      <td>18054.0</td>\n",
              "    </tr>\n",
              "    <tr>\n",
              "      <th>3</th>\n",
              "      <td>2019 reg</td>\n",
              "      <td>Manual</td>\n",
              "      <td>1.5L SE 218i</td>\n",
              "      <td>BMW, ,2 Series Gran Tourer</td>\n",
              "      <td>38,509 miles</td>\n",
              "      <td>Petrol</td>\n",
              "      <td>£15,450</td>\n",
              "      <td>3</td>\n",
              "      <td>1.5L</td>\n",
              "      <td>SE</td>\n",
              "      <td>61974.07</td>\n",
              "      <td>BMW</td>\n",
              "      <td>2 Series Gran Tourer</td>\n",
              "      <td>18231.0</td>\n",
              "    </tr>\n",
              "    <tr>\n",
              "      <th>4</th>\n",
              "      <td>2017 reg</td>\n",
              "      <td>Manual</td>\n",
              "      <td>2L Sport 120i</td>\n",
              "      <td>BMW, ,1 Series</td>\n",
              "      <td>18,568 miles</td>\n",
              "      <td>Petrol</td>\n",
              "      <td>£15,450</td>\n",
              "      <td>5</td>\n",
              "      <td>2L</td>\n",
              "      <td>Sport</td>\n",
              "      <td>29882.23</td>\n",
              "      <td>BMW</td>\n",
              "      <td>1 Series</td>\n",
              "      <td>18231.0</td>\n",
              "    </tr>\n",
              "    <tr>\n",
              "      <th>...</th>\n",
              "      <td>...</td>\n",
              "      <td>...</td>\n",
              "      <td>...</td>\n",
              "      <td>...</td>\n",
              "      <td>...</td>\n",
              "      <td>...</td>\n",
              "      <td>...</td>\n",
              "      <td>...</td>\n",
              "      <td>...</td>\n",
              "      <td>...</td>\n",
              "      <td>...</td>\n",
              "      <td>...</td>\n",
              "      <td>...</td>\n",
              "      <td>...</td>\n",
              "    </tr>\n",
              "    <tr>\n",
              "      <th>542</th>\n",
              "      <td>2017 reg</td>\n",
              "      <td>Automatic</td>\n",
              "      <td>2L M Sport 420d</td>\n",
              "      <td>BMW, ,4 Series</td>\n",
              "      <td>24,225 miles</td>\n",
              "      <td>Diesel</td>\n",
              "      <td>£23,250</td>\n",
              "      <td>5</td>\n",
              "      <td>2L</td>\n",
              "      <td>M</td>\n",
              "      <td>38986.26</td>\n",
              "      <td>BMW</td>\n",
              "      <td>4 Series</td>\n",
              "      <td>27435.0</td>\n",
              "    </tr>\n",
              "    <tr>\n",
              "      <th>543</th>\n",
              "      <td>2017 reg</td>\n",
              "      <td>Automatic</td>\n",
              "      <td>2L SE 530i</td>\n",
              "      <td>BMW, ,5 Series</td>\n",
              "      <td>22,702 miles</td>\n",
              "      <td>Petrol</td>\n",
              "      <td>£23,250</td>\n",
              "      <td>5</td>\n",
              "      <td>2L</td>\n",
              "      <td>SE</td>\n",
              "      <td>36535.24</td>\n",
              "      <td>BMW</td>\n",
              "      <td>5 Series</td>\n",
              "      <td>27435.0</td>\n",
              "    </tr>\n",
              "    <tr>\n",
              "      <th>544</th>\n",
              "      <td>2018 reg</td>\n",
              "      <td>Automatic</td>\n",
              "      <td>3L Shadow Edition M140i</td>\n",
              "      <td>BMW, ,1 Series</td>\n",
              "      <td>29,000 miles</td>\n",
              "      <td>Petrol</td>\n",
              "      <td>£23,250</td>\n",
              "      <td>4</td>\n",
              "      <td>3L</td>\n",
              "      <td>Shadow</td>\n",
              "      <td>46670.86</td>\n",
              "      <td>BMW</td>\n",
              "      <td>1 Series</td>\n",
              "      <td>27435.0</td>\n",
              "    </tr>\n",
              "    <tr>\n",
              "      <th>545</th>\n",
              "      <td>2016 reg</td>\n",
              "      <td>Automatic</td>\n",
              "      <td>3L M Sport 335d</td>\n",
              "      <td>BMW, ,3 Series</td>\n",
              "      <td>46,850 miles</td>\n",
              "      <td>Diesel</td>\n",
              "      <td>£23,250</td>\n",
              "      <td>6</td>\n",
              "      <td>3L</td>\n",
              "      <td>M</td>\n",
              "      <td>75397.58</td>\n",
              "      <td>BMW</td>\n",
              "      <td>3 Series</td>\n",
              "      <td>27435.0</td>\n",
              "    </tr>\n",
              "    <tr>\n",
              "      <th>546</th>\n",
              "      <td>2019 reg</td>\n",
              "      <td>Automatic</td>\n",
              "      <td>2L M Sport 18d</td>\n",
              "      <td>BMW, ,X2</td>\n",
              "      <td>24,236 miles</td>\n",
              "      <td>Diesel</td>\n",
              "      <td>£23,300</td>\n",
              "      <td>3</td>\n",
              "      <td>2L</td>\n",
              "      <td>M</td>\n",
              "      <td>39003.96</td>\n",
              "      <td>BMW</td>\n",
              "      <td>X2</td>\n",
              "      <td>27494.0</td>\n",
              "    </tr>\n",
              "  </tbody>\n",
              "</table>\n",
              "<p>546 rows × 14 columns</p>\n",
              "</div>\n",
              "      <button class=\"colab-df-convert\" onclick=\"convertToInteractive('df-ee4f5f2f-4891-4435-a350-3ab08566e19b')\"\n",
              "              title=\"Convert this dataframe to an interactive table.\"\n",
              "              style=\"display:none;\">\n",
              "        \n",
              "  <svg xmlns=\"http://www.w3.org/2000/svg\" height=\"24px\"viewBox=\"0 0 24 24\"\n",
              "       width=\"24px\">\n",
              "    <path d=\"M0 0h24v24H0V0z\" fill=\"none\"/>\n",
              "    <path d=\"M18.56 5.44l.94 2.06.94-2.06 2.06-.94-2.06-.94-.94-2.06-.94 2.06-2.06.94zm-11 1L8.5 8.5l.94-2.06 2.06-.94-2.06-.94L8.5 2.5l-.94 2.06-2.06.94zm10 10l.94 2.06.94-2.06 2.06-.94-2.06-.94-.94-2.06-.94 2.06-2.06.94z\"/><path d=\"M17.41 7.96l-1.37-1.37c-.4-.4-.92-.59-1.43-.59-.52 0-1.04.2-1.43.59L10.3 9.45l-7.72 7.72c-.78.78-.78 2.05 0 2.83L4 21.41c.39.39.9.59 1.41.59.51 0 1.02-.2 1.41-.59l7.78-7.78 2.81-2.81c.8-.78.8-2.07 0-2.86zM5.41 20L4 18.59l7.72-7.72 1.47 1.35L5.41 20z\"/>\n",
              "  </svg>\n",
              "      </button>\n",
              "      \n",
              "  <style>\n",
              "    .colab-df-container {\n",
              "      display:flex;\n",
              "      flex-wrap:wrap;\n",
              "      gap: 12px;\n",
              "    }\n",
              "\n",
              "    .colab-df-convert {\n",
              "      background-color: #E8F0FE;\n",
              "      border: none;\n",
              "      border-radius: 50%;\n",
              "      cursor: pointer;\n",
              "      display: none;\n",
              "      fill: #1967D2;\n",
              "      height: 32px;\n",
              "      padding: 0 0 0 0;\n",
              "      width: 32px;\n",
              "    }\n",
              "\n",
              "    .colab-df-convert:hover {\n",
              "      background-color: #E2EBFA;\n",
              "      box-shadow: 0px 1px 2px rgba(60, 64, 67, 0.3), 0px 1px 3px 1px rgba(60, 64, 67, 0.15);\n",
              "      fill: #174EA6;\n",
              "    }\n",
              "\n",
              "    [theme=dark] .colab-df-convert {\n",
              "      background-color: #3B4455;\n",
              "      fill: #D2E3FC;\n",
              "    }\n",
              "\n",
              "    [theme=dark] .colab-df-convert:hover {\n",
              "      background-color: #434B5C;\n",
              "      box-shadow: 0px 1px 3px 1px rgba(0, 0, 0, 0.15);\n",
              "      filter: drop-shadow(0px 1px 2px rgba(0, 0, 0, 0.3));\n",
              "      fill: #FFFFFF;\n",
              "    }\n",
              "  </style>\n",
              "\n",
              "      <script>\n",
              "        const buttonEl =\n",
              "          document.querySelector('#df-ee4f5f2f-4891-4435-a350-3ab08566e19b button.colab-df-convert');\n",
              "        buttonEl.style.display =\n",
              "          google.colab.kernel.accessAllowed ? 'block' : 'none';\n",
              "\n",
              "        async function convertToInteractive(key) {\n",
              "          const element = document.querySelector('#df-ee4f5f2f-4891-4435-a350-3ab08566e19b');\n",
              "          const dataTable =\n",
              "            await google.colab.kernel.invokeFunction('convertToInteractive',\n",
              "                                                     [key], {});\n",
              "          if (!dataTable) return;\n",
              "\n",
              "          const docLinkHtml = 'Like what you see? Visit the ' +\n",
              "            '<a target=\"_blank\" href=https://colab.research.google.com/notebooks/data_table.ipynb>data table notebook</a>'\n",
              "            + ' to learn more about interactive tables.';\n",
              "          element.innerHTML = '';\n",
              "          dataTable['output_type'] = 'display_data';\n",
              "          await google.colab.output.renderOutput(dataTable, element);\n",
              "          const docLink = document.createElement('div');\n",
              "          docLink.innerHTML = docLinkHtml;\n",
              "          element.appendChild(docLink);\n",
              "        }\n",
              "      </script>\n",
              "    </div>\n",
              "  </div>\n",
              "  "
            ]
          },
          "metadata": {},
          "execution_count": 11
        }
      ]
    },
    {
      "cell_type": "code",
      "source": [
        "# Nos quedamos con las columnas necesarias -------------------------------------\n",
        "\n",
        "df = data[['marca', 'modelo', 'tipo_motor', 'acabado', 'motor', 'caja_cambios', 'kms', 'años', 'precio_euro']]\n",
        "df"
      ],
      "metadata": {
        "colab": {
          "base_uri": "https://localhost:8080/",
          "height": 424
        },
        "id": "buV73tk8ipn8",
        "outputId": "46065b45-4b29-4a11-8ef3-afadc7d22b4c"
      },
      "execution_count": null,
      "outputs": [
        {
          "output_type": "execute_result",
          "data": {
            "text/plain": [
              "    marca                  modelo tipo_motor acabado   motor caja_cambios  \\\n",
              "0     BMW                1 Series         3L   M135i  Petrol       Manual   \n",
              "1     BMW                1 Series       1.5L   Sport  Petrol       Manual   \n",
              "2     BMW  2 Series Active Tourer       1.5L       M  Diesel       Manual   \n",
              "3     BMW    2 Series Gran Tourer       1.5L      SE  Petrol       Manual   \n",
              "4     BMW                1 Series         2L   Sport  Petrol       Manual   \n",
              "..    ...                     ...        ...     ...     ...          ...   \n",
              "542   BMW                4 Series         2L       M  Diesel    Automatic   \n",
              "543   BMW                5 Series         2L      SE  Petrol    Automatic   \n",
              "544   BMW                1 Series         3L  Shadow  Petrol    Automatic   \n",
              "545   BMW                3 Series         3L       M  Diesel    Automatic   \n",
              "546   BMW                      X2         2L       M  Diesel    Automatic   \n",
              "\n",
              "           kms  años  precio_euro  \n",
              "0    109285.45     7      17995.0  \n",
              "1     48666.44     3      18054.0  \n",
              "2     57083.29     4      18054.0  \n",
              "3     61974.07     3      18231.0  \n",
              "4     29882.23     5      18231.0  \n",
              "..         ...   ...          ...  \n",
              "542   38986.26     5      27435.0  \n",
              "543   36535.24     5      27435.0  \n",
              "544   46670.86     4      27435.0  \n",
              "545   75397.58     6      27435.0  \n",
              "546   39003.96     3      27494.0  \n",
              "\n",
              "[546 rows x 9 columns]"
            ],
            "text/html": [
              "\n",
              "  <div id=\"df-c3195e4a-17c3-47e8-a373-84d665ac604f\">\n",
              "    <div class=\"colab-df-container\">\n",
              "      <div>\n",
              "<style scoped>\n",
              "    .dataframe tbody tr th:only-of-type {\n",
              "        vertical-align: middle;\n",
              "    }\n",
              "\n",
              "    .dataframe tbody tr th {\n",
              "        vertical-align: top;\n",
              "    }\n",
              "\n",
              "    .dataframe thead th {\n",
              "        text-align: right;\n",
              "    }\n",
              "</style>\n",
              "<table border=\"1\" class=\"dataframe\">\n",
              "  <thead>\n",
              "    <tr style=\"text-align: right;\">\n",
              "      <th></th>\n",
              "      <th>marca</th>\n",
              "      <th>modelo</th>\n",
              "      <th>tipo_motor</th>\n",
              "      <th>acabado</th>\n",
              "      <th>motor</th>\n",
              "      <th>caja_cambios</th>\n",
              "      <th>kms</th>\n",
              "      <th>años</th>\n",
              "      <th>precio_euro</th>\n",
              "    </tr>\n",
              "  </thead>\n",
              "  <tbody>\n",
              "    <tr>\n",
              "      <th>0</th>\n",
              "      <td>BMW</td>\n",
              "      <td>1 Series</td>\n",
              "      <td>3L</td>\n",
              "      <td>M135i</td>\n",
              "      <td>Petrol</td>\n",
              "      <td>Manual</td>\n",
              "      <td>109285.45</td>\n",
              "      <td>7</td>\n",
              "      <td>17995.0</td>\n",
              "    </tr>\n",
              "    <tr>\n",
              "      <th>1</th>\n",
              "      <td>BMW</td>\n",
              "      <td>1 Series</td>\n",
              "      <td>1.5L</td>\n",
              "      <td>Sport</td>\n",
              "      <td>Petrol</td>\n",
              "      <td>Manual</td>\n",
              "      <td>48666.44</td>\n",
              "      <td>3</td>\n",
              "      <td>18054.0</td>\n",
              "    </tr>\n",
              "    <tr>\n",
              "      <th>2</th>\n",
              "      <td>BMW</td>\n",
              "      <td>2 Series Active Tourer</td>\n",
              "      <td>1.5L</td>\n",
              "      <td>M</td>\n",
              "      <td>Diesel</td>\n",
              "      <td>Manual</td>\n",
              "      <td>57083.29</td>\n",
              "      <td>4</td>\n",
              "      <td>18054.0</td>\n",
              "    </tr>\n",
              "    <tr>\n",
              "      <th>3</th>\n",
              "      <td>BMW</td>\n",
              "      <td>2 Series Gran Tourer</td>\n",
              "      <td>1.5L</td>\n",
              "      <td>SE</td>\n",
              "      <td>Petrol</td>\n",
              "      <td>Manual</td>\n",
              "      <td>61974.07</td>\n",
              "      <td>3</td>\n",
              "      <td>18231.0</td>\n",
              "    </tr>\n",
              "    <tr>\n",
              "      <th>4</th>\n",
              "      <td>BMW</td>\n",
              "      <td>1 Series</td>\n",
              "      <td>2L</td>\n",
              "      <td>Sport</td>\n",
              "      <td>Petrol</td>\n",
              "      <td>Manual</td>\n",
              "      <td>29882.23</td>\n",
              "      <td>5</td>\n",
              "      <td>18231.0</td>\n",
              "    </tr>\n",
              "    <tr>\n",
              "      <th>...</th>\n",
              "      <td>...</td>\n",
              "      <td>...</td>\n",
              "      <td>...</td>\n",
              "      <td>...</td>\n",
              "      <td>...</td>\n",
              "      <td>...</td>\n",
              "      <td>...</td>\n",
              "      <td>...</td>\n",
              "      <td>...</td>\n",
              "    </tr>\n",
              "    <tr>\n",
              "      <th>542</th>\n",
              "      <td>BMW</td>\n",
              "      <td>4 Series</td>\n",
              "      <td>2L</td>\n",
              "      <td>M</td>\n",
              "      <td>Diesel</td>\n",
              "      <td>Automatic</td>\n",
              "      <td>38986.26</td>\n",
              "      <td>5</td>\n",
              "      <td>27435.0</td>\n",
              "    </tr>\n",
              "    <tr>\n",
              "      <th>543</th>\n",
              "      <td>BMW</td>\n",
              "      <td>5 Series</td>\n",
              "      <td>2L</td>\n",
              "      <td>SE</td>\n",
              "      <td>Petrol</td>\n",
              "      <td>Automatic</td>\n",
              "      <td>36535.24</td>\n",
              "      <td>5</td>\n",
              "      <td>27435.0</td>\n",
              "    </tr>\n",
              "    <tr>\n",
              "      <th>544</th>\n",
              "      <td>BMW</td>\n",
              "      <td>1 Series</td>\n",
              "      <td>3L</td>\n",
              "      <td>Shadow</td>\n",
              "      <td>Petrol</td>\n",
              "      <td>Automatic</td>\n",
              "      <td>46670.86</td>\n",
              "      <td>4</td>\n",
              "      <td>27435.0</td>\n",
              "    </tr>\n",
              "    <tr>\n",
              "      <th>545</th>\n",
              "      <td>BMW</td>\n",
              "      <td>3 Series</td>\n",
              "      <td>3L</td>\n",
              "      <td>M</td>\n",
              "      <td>Diesel</td>\n",
              "      <td>Automatic</td>\n",
              "      <td>75397.58</td>\n",
              "      <td>6</td>\n",
              "      <td>27435.0</td>\n",
              "    </tr>\n",
              "    <tr>\n",
              "      <th>546</th>\n",
              "      <td>BMW</td>\n",
              "      <td>X2</td>\n",
              "      <td>2L</td>\n",
              "      <td>M</td>\n",
              "      <td>Diesel</td>\n",
              "      <td>Automatic</td>\n",
              "      <td>39003.96</td>\n",
              "      <td>3</td>\n",
              "      <td>27494.0</td>\n",
              "    </tr>\n",
              "  </tbody>\n",
              "</table>\n",
              "<p>546 rows × 9 columns</p>\n",
              "</div>\n",
              "      <button class=\"colab-df-convert\" onclick=\"convertToInteractive('df-c3195e4a-17c3-47e8-a373-84d665ac604f')\"\n",
              "              title=\"Convert this dataframe to an interactive table.\"\n",
              "              style=\"display:none;\">\n",
              "        \n",
              "  <svg xmlns=\"http://www.w3.org/2000/svg\" height=\"24px\"viewBox=\"0 0 24 24\"\n",
              "       width=\"24px\">\n",
              "    <path d=\"M0 0h24v24H0V0z\" fill=\"none\"/>\n",
              "    <path d=\"M18.56 5.44l.94 2.06.94-2.06 2.06-.94-2.06-.94-.94-2.06-.94 2.06-2.06.94zm-11 1L8.5 8.5l.94-2.06 2.06-.94-2.06-.94L8.5 2.5l-.94 2.06-2.06.94zm10 10l.94 2.06.94-2.06 2.06-.94-2.06-.94-.94-2.06-.94 2.06-2.06.94z\"/><path d=\"M17.41 7.96l-1.37-1.37c-.4-.4-.92-.59-1.43-.59-.52 0-1.04.2-1.43.59L10.3 9.45l-7.72 7.72c-.78.78-.78 2.05 0 2.83L4 21.41c.39.39.9.59 1.41.59.51 0 1.02-.2 1.41-.59l7.78-7.78 2.81-2.81c.8-.78.8-2.07 0-2.86zM5.41 20L4 18.59l7.72-7.72 1.47 1.35L5.41 20z\"/>\n",
              "  </svg>\n",
              "      </button>\n",
              "      \n",
              "  <style>\n",
              "    .colab-df-container {\n",
              "      display:flex;\n",
              "      flex-wrap:wrap;\n",
              "      gap: 12px;\n",
              "    }\n",
              "\n",
              "    .colab-df-convert {\n",
              "      background-color: #E8F0FE;\n",
              "      border: none;\n",
              "      border-radius: 50%;\n",
              "      cursor: pointer;\n",
              "      display: none;\n",
              "      fill: #1967D2;\n",
              "      height: 32px;\n",
              "      padding: 0 0 0 0;\n",
              "      width: 32px;\n",
              "    }\n",
              "\n",
              "    .colab-df-convert:hover {\n",
              "      background-color: #E2EBFA;\n",
              "      box-shadow: 0px 1px 2px rgba(60, 64, 67, 0.3), 0px 1px 3px 1px rgba(60, 64, 67, 0.15);\n",
              "      fill: #174EA6;\n",
              "    }\n",
              "\n",
              "    [theme=dark] .colab-df-convert {\n",
              "      background-color: #3B4455;\n",
              "      fill: #D2E3FC;\n",
              "    }\n",
              "\n",
              "    [theme=dark] .colab-df-convert:hover {\n",
              "      background-color: #434B5C;\n",
              "      box-shadow: 0px 1px 3px 1px rgba(0, 0, 0, 0.15);\n",
              "      filter: drop-shadow(0px 1px 2px rgba(0, 0, 0, 0.3));\n",
              "      fill: #FFFFFF;\n",
              "    }\n",
              "  </style>\n",
              "\n",
              "      <script>\n",
              "        const buttonEl =\n",
              "          document.querySelector('#df-c3195e4a-17c3-47e8-a373-84d665ac604f button.colab-df-convert');\n",
              "        buttonEl.style.display =\n",
              "          google.colab.kernel.accessAllowed ? 'block' : 'none';\n",
              "\n",
              "        async function convertToInteractive(key) {\n",
              "          const element = document.querySelector('#df-c3195e4a-17c3-47e8-a373-84d665ac604f');\n",
              "          const dataTable =\n",
              "            await google.colab.kernel.invokeFunction('convertToInteractive',\n",
              "                                                     [key], {});\n",
              "          if (!dataTable) return;\n",
              "\n",
              "          const docLinkHtml = 'Like what you see? Visit the ' +\n",
              "            '<a target=\"_blank\" href=https://colab.research.google.com/notebooks/data_table.ipynb>data table notebook</a>'\n",
              "            + ' to learn more about interactive tables.';\n",
              "          element.innerHTML = '';\n",
              "          dataTable['output_type'] = 'display_data';\n",
              "          await google.colab.output.renderOutput(dataTable, element);\n",
              "          const docLink = document.createElement('div');\n",
              "          docLink.innerHTML = docLinkHtml;\n",
              "          element.appendChild(docLink);\n",
              "        }\n",
              "      </script>\n",
              "    </div>\n",
              "  </div>\n",
              "  "
            ]
          },
          "metadata": {},
          "execution_count": 12
        }
      ]
    },
    {
      "cell_type": "markdown",
      "source": [
        "# EDA"
      ],
      "metadata": {
        "id": "idSGolplljaM"
      }
    },
    {
      "cell_type": "markdown",
      "source": [
        "## Análisis de variables categóricas"
      ],
      "metadata": {
        "id": "3Q4cHTlxXmaK"
      }
    },
    {
      "cell_type": "code",
      "source": [
        "fig = plt.figure(figsize=(7,7))\n",
        "sns.countplot(y='modelo', data=df, order=df['modelo'].value_counts().index, color=graph_color)\n",
        "plt.show()"
      ],
      "metadata": {
        "colab": {
          "base_uri": "https://localhost:8080/",
          "height": 445
        },
        "id": "7DydedKallW6",
        "outputId": "4904d33a-b290-40a8-e062-7c10e6bb24c1"
      },
      "execution_count": null,
      "outputs": [
        {
          "output_type": "display_data",
          "data": {
            "text/plain": [
              "<Figure size 504x504 with 1 Axes>"
            ],
            "image/png": "[encoded data removed]"
          },
          "metadata": {
            "needs_background": "light"
          }
        }
      ]
    },
    {
      "cell_type": "code",
      "source": [
        "fig = plt.figure(figsize=(5,5))\n",
        "sns.countplot(y='tipo_motor', data=df, order=df['tipo_motor'].value_counts().index, color= graph_color)\n",
        "plt.show()"
      ],
      "metadata": {
        "colab": {
          "base_uri": "https://localhost:8080/",
          "height": 337
        },
        "id": "xvImmMY1rHqS",
        "outputId": "05681db6-18e1-433c-bb75-9dd94eb070a7"
      },
      "execution_count": null,
      "outputs": [
        {
          "output_type": "display_data",
          "data": {
            "text/plain": [
              "<Figure size 360x360 with 1 Axes>"
            ],
            "image/png": "[encoded data removed]"
          },
          "metadata": {
            "needs_background": "light"
          }
        }
      ]
    },
    {
      "cell_type": "code",
      "source": [
        "fig = plt.figure(figsize=(5,5))\n",
        "sns.countplot(y='acabado', data=df, order=df['acabado'].value_counts().index, color=graph_color)\n",
        "plt.show()"
      ],
      "metadata": {
        "colab": {
          "base_uri": "https://localhost:8080/",
          "height": 337
        },
        "id": "FXjGFVv7tY3p",
        "outputId": "b94e178f-7f71-497c-d027-e14513c7bd8d"
      },
      "execution_count": null,
      "outputs": [
        {
          "output_type": "display_data",
          "data": {
            "text/plain": [
              "<Figure size 360x360 with 1 Axes>"
            ],
            "image/png": "[encoded data removed]"
          },
          "metadata": {
            "needs_background": "light"
          }
        }
      ]
    },
    {
      "cell_type": "code",
      "source": [
        "fig = plt.figure(figsize=(5,5))\n",
        "sns.countplot(y='motor', data=df, order=df['motor'].value_counts().index, color=graph_color)\n",
        "plt.show()"
      ],
      "metadata": {
        "colab": {
          "base_uri": "https://localhost:8080/",
          "height": 337
        },
        "id": "4uRacPpltifn",
        "outputId": "2ba0c0d7-6640-4854-dcd3-b0d3ce01dd39"
      },
      "execution_count": null,
      "outputs": [
        {
          "output_type": "display_data",
          "data": {
            "text/plain": [
              "<Figure size 360x360 with 1 Axes>"
            ],
            "image/png": "[encoded data removed]"
          },
          "metadata": {
            "needs_background": "light"
          }
        }
      ]
    },
    {
      "cell_type": "code",
      "source": [
        "fig = plt.figure(figsize=(5,3))\n",
        "sns.countplot(y='caja_cambios', data=df, order=df['caja_cambios'].value_counts().index, color=graph_color)\n",
        "plt.show()"
      ],
      "metadata": {
        "colab": {
          "base_uri": "https://localhost:8080/",
          "height": 228
        },
        "id": "O-1SAYFWtmSj",
        "outputId": "0e23dff3-f5c1-4329-f4ad-569c6fc935d8"
      },
      "execution_count": null,
      "outputs": [
        {
          "output_type": "display_data",
          "data": {
            "text/plain": [
              "<Figure size 360x216 with 1 Axes>"
            ],
            "image/png": "[encoded data removed]"
          },
          "metadata": {
            "needs_background": "light"
          }
        }
      ]
    },
    {
      "cell_type": "markdown",
      "source": [
        "## Análisis de variables numéricas"
      ],
      "metadata": {
        "id": "6lcJ833rXgUE"
      }
    },
    {
      "cell_type": "code",
      "source": [
        "# Análisis de variables numéricas ----------------------------------------------\n",
        "\n",
        "df.describe()"
      ],
      "metadata": {
        "colab": {
          "base_uri": "https://localhost:8080/",
          "height": 300
        },
        "id": "9OJRHW9TWxE2",
        "outputId": "b4cebade-ab26-40f8-f076-141f08c86aad"
      },
      "execution_count": null,
      "outputs": [
        {
          "output_type": "execute_result",
          "data": {
            "text/plain": [
              "                kms        años   precio_euro\n",
              "count     546.00000  546.000000    546.000000\n",
              "mean    45678.51044    3.520147  28083.675824\n",
              "std     24897.27980    1.381582   6524.100388\n",
              "min       785.36000    0.000000  17995.000000\n",
              "25%     28033.89750    3.000000  23570.500000\n",
              "50%     42390.01500    3.000000  27199.000000\n",
              "75%     60295.53500    4.000000  31314.250000\n",
              "max    182594.11000    7.000000  50976.000000"
            ],
            "text/html": [
              "\n",
              "  <div id=\"df-079f3d7b-d61e-4cb9-a324-a96d5229ec63\">\n",
              "    <div class=\"colab-df-container\">\n",
              "      <div>\n",
              "<style scoped>\n",
              "    .dataframe tbody tr th:only-of-type {\n",
              "        vertical-align: middle;\n",
              "    }\n",
              "\n",
              "    .dataframe tbody tr th {\n",
              "        vertical-align: top;\n",
              "    }\n",
              "\n",
              "    .dataframe thead th {\n",
              "        text-align: right;\n",
              "    }\n",
              "</style>\n",
              "<table border=\"1\" class=\"dataframe\">\n",
              "  <thead>\n",
              "    <tr style=\"text-align: right;\">\n",
              "      <th></th>\n",
              "      <th>kms</th>\n",
              "      <th>años</th>\n",
              "      <th>precio_euro</th>\n",
              "    </tr>\n",
              "  </thead>\n",
              "  <tbody>\n",
              "    <tr>\n",
              "      <th>count</th>\n",
              "      <td>546.00000</td>\n",
              "      <td>546.000000</td>\n",
              "      <td>546.000000</td>\n",
              "    </tr>\n",
              "    <tr>\n",
              "      <th>mean</th>\n",
              "      <td>45678.51044</td>\n",
              "      <td>3.520147</td>\n",
              "      <td>28083.675824</td>\n",
              "    </tr>\n",
              "    <tr>\n",
              "      <th>std</th>\n",
              "      <td>24897.27980</td>\n",
              "      <td>1.381582</td>\n",
              "      <td>6524.100388</td>\n",
              "    </tr>\n",
              "    <tr>\n",
              "      <th>min</th>\n",
              "      <td>785.36000</td>\n",
              "      <td>0.000000</td>\n",
              "      <td>17995.000000</td>\n",
              "    </tr>\n",
              "    <tr>\n",
              "      <th>25%</th>\n",
              "      <td>28033.89750</td>\n",
              "      <td>3.000000</td>\n",
              "      <td>23570.500000</td>\n",
              "    </tr>\n",
              "    <tr>\n",
              "      <th>50%</th>\n",
              "      <td>42390.01500</td>\n",
              "      <td>3.000000</td>\n",
              "      <td>27199.000000</td>\n",
              "    </tr>\n",
              "    <tr>\n",
              "      <th>75%</th>\n",
              "      <td>60295.53500</td>\n",
              "      <td>4.000000</td>\n",
              "      <td>31314.250000</td>\n",
              "    </tr>\n",
              "    <tr>\n",
              "      <th>max</th>\n",
              "      <td>182594.11000</td>\n",
              "      <td>7.000000</td>\n",
              "      <td>50976.000000</td>\n",
              "    </tr>\n",
              "  </tbody>\n",
              "</table>\n",
              "</div>\n",
              "      <button class=\"colab-df-convert\" onclick=\"convertToInteractive('df-079f3d7b-d61e-4cb9-a324-a96d5229ec63')\"\n",
              "              title=\"Convert this dataframe to an interactive table.\"\n",
              "              style=\"display:none;\">\n",
              "        \n",
              "  <svg xmlns=\"http://www.w3.org/2000/svg\" height=\"24px\"viewBox=\"0 0 24 24\"\n",
              "       width=\"24px\">\n",
              "    <path d=\"M0 0h24v24H0V0z\" fill=\"none\"/>\n",
              "    <path d=\"M18.56 5.44l.94 2.06.94-2.06 2.06-.94-2.06-.94-.94-2.06-.94 2.06-2.06.94zm-11 1L8.5 8.5l.94-2.06 2.06-.94-2.06-.94L8.5 2.5l-.94 2.06-2.06.94zm10 10l.94 2.06.94-2.06 2.06-.94-2.06-.94-.94-2.06-.94 2.06-2.06.94z\"/><path d=\"M17.41 7.96l-1.37-1.37c-.4-.4-.92-.59-1.43-.59-.52 0-1.04.2-1.43.59L10.3 9.45l-7.72 7.72c-.78.78-.78 2.05 0 2.83L4 21.41c.39.39.9.59 1.41.59.51 0 1.02-.2 1.41-.59l7.78-7.78 2.81-2.81c.8-.78.8-2.07 0-2.86zM5.41 20L4 18.59l7.72-7.72 1.47 1.35L5.41 20z\"/>\n",
              "  </svg>\n",
              "      </button>\n",
              "      \n",
              "  <style>\n",
              "    .colab-df-container {\n",
              "      display:flex;\n",
              "      flex-wrap:wrap;\n",
              "      gap: 12px;\n",
              "    }\n",
              "\n",
              "    .colab-df-convert {\n",
              "      background-color: #E8F0FE;\n",
              "      border: none;\n",
              "      border-radius: 50%;\n",
              "      cursor: pointer;\n",
              "      display: none;\n",
              "      fill: #1967D2;\n",
              "      height: 32px;\n",
              "      padding: 0 0 0 0;\n",
              "      width: 32px;\n",
              "    }\n",
              "\n",
              "    .colab-df-convert:hover {\n",
              "      background-color: #E2EBFA;\n",
              "      box-shadow: 0px 1px 2px rgba(60, 64, 67, 0.3), 0px 1px 3px 1px rgba(60, 64, 67, 0.15);\n",
              "      fill: #174EA6;\n",
              "    }\n",
              "\n",
              "    [theme=dark] .colab-df-convert {\n",
              "      background-color: #3B4455;\n",
              "      fill: #D2E3FC;\n",
              "    }\n",
              "\n",
              "    [theme=dark] .colab-df-convert:hover {\n",
              "      background-color: #434B5C;\n",
              "      box-shadow: 0px 1px 3px 1px rgba(0, 0, 0, 0.15);\n",
              "      filter: drop-shadow(0px 1px 2px rgba(0, 0, 0, 0.3));\n",
              "      fill: #FFFFFF;\n",
              "    }\n",
              "  </style>\n",
              "\n",
              "      <script>\n",
              "        const buttonEl =\n",
              "          document.querySelector('#df-079f3d7b-d61e-4cb9-a324-a96d5229ec63 button.colab-df-convert');\n",
              "        buttonEl.style.display =\n",
              "          google.colab.kernel.accessAllowed ? 'block' : 'none';\n",
              "\n",
              "        async function convertToInteractive(key) {\n",
              "          const element = document.querySelector('#df-079f3d7b-d61e-4cb9-a324-a96d5229ec63');\n",
              "          const dataTable =\n",
              "            await google.colab.kernel.invokeFunction('convertToInteractive',\n",
              "                                                     [key], {});\n",
              "          if (!dataTable) return;\n",
              "\n",
              "          const docLinkHtml = 'Like what you see? Visit the ' +\n",
              "            '<a target=\"_blank\" href=https://colab.research.google.com/notebooks/data_table.ipynb>data table notebook</a>'\n",
              "            + ' to learn more about interactive tables.';\n",
              "          element.innerHTML = '';\n",
              "          dataTable['output_type'] = 'display_data';\n",
              "          await google.colab.output.renderOutput(dataTable, element);\n",
              "          const docLink = document.createElement('div');\n",
              "          docLink.innerHTML = docLinkHtml;\n",
              "          element.appendChild(docLink);\n",
              "        }\n",
              "      </script>\n",
              "    </div>\n",
              "  </div>\n",
              "  "
            ]
          },
          "metadata": {},
          "execution_count": 18
        }
      ]
    },
    {
      "cell_type": "code",
      "source": [
        "sns.distplot(df['años'], hist=False)\n",
        "plt.title('Distribución de la edad de los coches')\n",
        "plt.show()"
      ],
      "metadata": {
        "colab": {
          "base_uri": "https://localhost:8080/",
          "height": 298
        },
        "id": "fPv7l2feXAYS",
        "outputId": "9f339a9c-493f-4da0-9ca7-035b23fa966f"
      },
      "execution_count": null,
      "outputs": [
        {
          "output_type": "display_data",
          "data": {
            "text/plain": [
              "<Figure size 432x288 with 1 Axes>"
            ],
            "image/png": "[encoded data removed]"
          },
          "metadata": {
            "needs_background": "light"
          }
        }
      ]
    },
    {
      "cell_type": "code",
      "source": [
        "sns.distplot(df['kms'], hist=False)\n",
        "plt.title('Distribución de los kilómetros de los coches')\n",
        "plt.show()"
      ],
      "metadata": {
        "colab": {
          "base_uri": "https://localhost:8080/",
          "height": 298
        },
        "id": "5eg9iMW2HHB5",
        "outputId": "a04eff47-84cc-4f61-e7cd-3af1ea1e1e52"
      },
      "execution_count": null,
      "outputs": [
        {
          "output_type": "display_data",
          "data": {
            "text/plain": [
              "<Figure size 432x288 with 1 Axes>"
            ],
            "image/png": "[encoded data removed]"
          },
          "metadata": {
            "needs_background": "light"
          }
        }
      ]
    },
    {
      "cell_type": "markdown",
      "source": [
        "## Visualización de datos categóricos"
      ],
      "metadata": {
        "id": "eeEXx21pXbBA"
      }
    },
    {
      "cell_type": "code",
      "source": [
        "df.columns"
      ],
      "metadata": {
        "colab": {
          "base_uri": "https://localhost:8080/"
        },
        "id": "d3NwxKzWXyzL",
        "outputId": "9a9b4657-c70a-4b99-d191-5ddc4775421e"
      },
      "execution_count": null,
      "outputs": [
        {
          "output_type": "execute_result",
          "data": {
            "text/plain": [
              "Index(['marca', 'modelo', 'tipo_motor', 'acabado', 'motor', 'caja_cambios',\n",
              "       'kms', 'años', 'precio_euro'],\n",
              "      dtype='object')"
            ]
          },
          "metadata": {},
          "execution_count": 21
        }
      ]
    },
    {
      "cell_type": "code",
      "source": [
        "fig = plt.figure(figsize=(14,7))\n",
        "sns.boxplot(data=df, x='modelo', y='precio_euro', color=graph_color)\n",
        "plt.xticks(rotation=90)\n",
        "plt.show()"
      ],
      "metadata": {
        "colab": {
          "base_uri": "https://localhost:8080/",
          "height": 557
        },
        "id": "kkG51g8BXfBq",
        "outputId": "97358d5c-ac86-4bf7-f3d5-0db8c6c15ee9"
      },
      "execution_count": null,
      "outputs": [
        {
          "output_type": "display_data",
          "data": {
            "text/plain": [
              "<Figure size 1008x504 with 1 Axes>"
            ],
            "image/png": "[encoded data removed]"
          },
          "metadata": {
            "needs_background": "light"
          }
        }
      ]
    },
    {
      "cell_type": "code",
      "source": [
        "fig = plt.figure(figsize=(10,7))\n",
        "sns.boxplot(data=df, x='tipo_motor', y='precio_euro', color=graph_color, width=0.5)\n",
        "plt.xticks(rotation=90)\n",
        "plt.show()"
      ],
      "metadata": {
        "colab": {
          "base_uri": "https://localhost:8080/",
          "height": 484
        },
        "id": "HHYwso0-YR9J",
        "outputId": "d361032c-92ef-40f1-8e96-02dfde943bca"
      },
      "execution_count": null,
      "outputs": [
        {
          "output_type": "display_data",
          "data": {
            "text/plain": [
              "<Figure size 720x504 with 1 Axes>"
            ],
            "image/png": "[encoded data removed]"
          },
          "metadata": {
            "needs_background": "light"
          }
        }
      ]
    },
    {
      "cell_type": "code",
      "source": [
        "fig = plt.figure(figsize=(10,7))\n",
        "sns.boxplot(data=df, x='acabado', y='precio_euro', color=graph_color)\n",
        "plt.xticks(rotation=90)\n",
        "plt.show()"
      ],
      "metadata": {
        "colab": {
          "base_uri": "https://localhost:8080/",
          "height": 503
        },
        "id": "mu0wEPIsYaVk",
        "outputId": "917ee2d4-c0cb-4322-94a3-d0a52f77903a"
      },
      "execution_count": null,
      "outputs": [
        {
          "output_type": "display_data",
          "data": {
            "text/plain": [
              "<Figure size 720x504 with 1 Axes>"
            ],
            "image/png": "[encoded data removed]"
          },
          "metadata": {
            "needs_background": "light"
          }
        }
      ]
    },
    {
      "cell_type": "code",
      "source": [
        "fig = plt.figure(figsize=(10,7))\n",
        "sns.boxplot(data=df, x='motor', y='precio_euro', color=graph_color, width=0.3)\n",
        "plt.xticks(rotation=90)\n",
        "plt.show()"
      ],
      "metadata": {
        "colab": {
          "base_uri": "https://localhost:8080/",
          "height": 512
        },
        "id": "AMPnTRODYomP",
        "outputId": "98e98369-2a16-49fb-ca96-7ed9d969404a"
      },
      "execution_count": null,
      "outputs": [
        {
          "output_type": "display_data",
          "data": {
            "text/plain": [
              "<Figure size 720x504 with 1 Axes>"
            ],
            "image/png": "[encoded data removed]"
          },
          "metadata": {
            "needs_background": "light"
          }
        }
      ]
    },
    {
      "cell_type": "code",
      "source": [
        "fig = plt.figure(figsize=(7,7))\n",
        "sns.boxplot(data=df, x='caja_cambios', y='precio_euro', color=graph_color, width=0.3)\n",
        "plt.xticks(rotation=90)\n",
        "plt.show()"
      ],
      "metadata": {
        "colab": {
          "base_uri": "https://localhost:8080/",
          "height": 492
        },
        "id": "SE_QoymHYtCm",
        "outputId": "a78c33f3-61e3-4249-9763-ceb787123660"
      },
      "execution_count": null,
      "outputs": [
        {
          "output_type": "display_data",
          "data": {
            "text/plain": [
              "<Figure size 504x504 with 1 Axes>"
            ],
            "image/png": "[encoded data removed]"
          },
          "metadata": {
            "needs_background": "light"
          }
        }
      ]
    },
    {
      "cell_type": "markdown",
      "source": [
        "## Visualización de datos numéricos"
      ],
      "metadata": {
        "id": "6xdkEUUCZ-C8"
      }
    },
    {
      "cell_type": "code",
      "source": [
        "sns.heatmap(df.corr(), annot=True, cmap='Blues')"
      ],
      "metadata": {
        "colab": {
          "base_uri": "https://localhost:8080/",
          "height": 287
        },
        "id": "tEZotEhaaBxw",
        "outputId": "85bf3f45-ca46-4f5a-dbf5-adc395b0a6eb"
      },
      "execution_count": null,
      "outputs": [
        {
          "output_type": "execute_result",
          "data": {
            "text/plain": [
              "<matplotlib.axes._subplots.AxesSubplot at 0x7fed87416050>"
            ]
          },
          "metadata": {},
          "execution_count": 27
        },
        {
          "output_type": "display_data",
          "data": {
            "text/plain": [
              "<Figure size 432x288 with 2 Axes>"
            ],
            "image/png": "[encoded data removed]"
          },
          "metadata": {
            "needs_background": "light"
          }
        }
      ]
    },
    {
      "cell_type": "code",
      "source": [
        "sns.jointplot(data=df, x='precio_euro', y='años', alpha=1, color=graph_color)"
      ],
      "metadata": {
        "colab": {
          "base_uri": "https://localhost:8080/",
          "height": 458
        },
        "id": "f3EK700_aYk5",
        "outputId": "26b6fa74-7981-4969-974f-85a41cefefe4"
      },
      "execution_count": null,
      "outputs": [
        {
          "output_type": "execute_result",
          "data": {
            "text/plain": [
              "<seaborn.axisgrid.JointGrid at 0x7fed84b5e410>"
            ]
          },
          "metadata": {},
          "execution_count": 28
        },
        {
          "output_type": "display_data",
          "data": {
            "text/plain": [
              "<Figure size 432x432 with 3 Axes>"
            ],
            "image/png": "[encoded data removed]"
          },
          "metadata": {
            "needs_background": "light"
          }
        }
      ]
    },
    {
      "cell_type": "code",
      "source": [
        "sns.jointplot(data=df, x='precio_euro', y='kms', alpha=1, color=graph_color)"
      ],
      "metadata": {
        "colab": {
          "base_uri": "https://localhost:8080/",
          "height": 458
        },
        "id": "0Xh7NWCsaeIT",
        "outputId": "470d7b1a-af4f-4a91-dd2f-0d8c0ebd07a7"
      },
      "execution_count": null,
      "outputs": [
        {
          "output_type": "execute_result",
          "data": {
            "text/plain": [
              "<seaborn.axisgrid.JointGrid at 0x7fed8499ac50>"
            ]
          },
          "metadata": {},
          "execution_count": 29
        },
        {
          "output_type": "display_data",
          "data": {
            "text/plain": [
              "<Figure size 432x432 with 3 Axes>"
            ],
            "image/png": "[encoded data removed]"
          },
          "metadata": {
            "needs_background": "light"
          }
        }
      ]
    },
    {
      "cell_type": "markdown",
      "source": [
        "# Preprocesado de datos"
      ],
      "metadata": {
        "id": "z9wnsGXqaol4"
      }
    },
    {
      "cell_type": "code",
      "source": [
        "df.columns"
      ],
      "metadata": {
        "colab": {
          "base_uri": "https://localhost:8080/"
        },
        "id": "Y-rKbCfCaroz",
        "outputId": "9c408ece-31fb-4fdc-b8d9-b17cc6e3f39d"
      },
      "execution_count": null,
      "outputs": [
        {
          "output_type": "execute_result",
          "data": {
            "text/plain": [
              "Index(['marca', 'modelo', 'tipo_motor', 'acabado', 'motor', 'caja_cambios',\n",
              "       'kms', 'años', 'precio_euro'],\n",
              "      dtype='object')"
            ]
          },
          "metadata": {},
          "execution_count": 30
        }
      ]
    },
    {
      "cell_type": "code",
      "source": [
        "# Extraemos las variables categóricas y numéricas ------------------------------\n",
        "\n",
        "num_features = df[['kms', 'años']]\n",
        "cat_features = df[['modelo', 'tipo_motor', 'acabado', 'motor', 'caja_cambios']]"
      ],
      "metadata": {
        "id": "kE6aZB07a-gp"
      },
      "execution_count": null,
      "outputs": []
    },
    {
      "cell_type": "code",
      "source": [
        "# Codificamos las variables categóricas ----------------------------------------\n",
        "\n",
        "for i in cat_features:\n",
        "  le = LabelEncoder()\n",
        "  cat_features[i] = le.fit_transform(cat_features[i])"
      ],
      "metadata": {
        "id": "qsaZFmP6bd4l"
      },
      "execution_count": null,
      "outputs": []
    },
    {
      "cell_type": "code",
      "source": [
        "# Codificamos las variables numéricas ------------------------------------------\n",
        "\n",
        "scaler = StandardScaler()\n",
        "scaler.fit(num_features)\n",
        "num_scaled = scaler.transform(num_features)\n",
        "num_scaled = pd.DataFrame(num_scaled, index=num_features.index, columns=num_features.columns)"
      ],
      "metadata": {
        "id": "z5boTxsAcRCm"
      },
      "execution_count": null,
      "outputs": []
    },
    {
      "cell_type": "code",
      "source": [
        "# Concatenamos los dataframes con las variables categóricas y numéricas --------\n",
        "# Extraemos la variable objetivo -----------------------------------------------\n",
        "\n",
        "X = pd.concat([num_scaled, cat_features], axis=1)\n",
        "y = df['precio_euro']"
      ],
      "metadata": {
        "id": "d6jUFKy1cytO"
      },
      "execution_count": null,
      "outputs": []
    },
    {
      "cell_type": "code",
      "source": [
        "# Comprobamos que no existan valores nulos -------------------------------------\n",
        "\n",
        "X.isna().sum()"
      ],
      "metadata": {
        "colab": {
          "base_uri": "https://localhost:8080/"
        },
        "id": "hiDB6PR9dXKJ",
        "outputId": "1d2a211f-1562-40f3-811f-c90e5da6afab"
      },
      "execution_count": null,
      "outputs": [
        {
          "output_type": "execute_result",
          "data": {
            "text/plain": [
              "kms             0\n",
              "años            0\n",
              "modelo          0\n",
              "tipo_motor      0\n",
              "acabado         0\n",
              "motor           0\n",
              "caja_cambios    0\n",
              "dtype: int64"
            ]
          },
          "metadata": {},
          "execution_count": 35
        }
      ]
    },
    {
      "cell_type": "markdown",
      "source": [
        "# Modelos"
      ],
      "metadata": {
        "id": "yr6Vi3QSdi2x"
      }
    },
    {
      "cell_type": "markdown",
      "source": [
        "### Random Forest"
      ],
      "metadata": {
        "id": "-veUwlMH5gr3"
      }
    },
    {
      "cell_type": "code",
      "source": [
        "# Dividimos el conjunto de datos en entrenamiento y test -----------------------\n",
        "\n",
        "X_train, X_test, y_train, y_test = train_test_split(X, y, test_size=0.2, random_state=34)"
      ],
      "metadata": {
        "id": "ZeVJngmhbtXr"
      },
      "execution_count": null,
      "outputs": []
    },
    {
      "cell_type": "code",
      "source": [
        "# Aplicamos un modelo Random Forest Reresor ---------------------------------------------\n",
        "\n",
        "model_rf = RandomForestRegressor()"
      ],
      "metadata": {
        "id": "aBUml6O-9PrN"
      },
      "execution_count": null,
      "outputs": []
    },
    {
      "cell_type": "code",
      "source": [
        "# Buscamos los mejores parámetros para el modelo -------------------------------\n",
        "\n",
        "parameters_rf = {\n",
        "    'max_depth':[5,10,15],\n",
        "    'max_features':['auto','sqrt'],\n",
        "    'n_estimators': [500,1000,1500]\n",
        "}\n",
        "\n",
        "RF_model = GridSearchCV(model_rf, parameters_rf, cv=10, n_jobs=4)\n",
        "RF_model.fit(X_train, y_train)"
      ],
      "metadata": {
        "colab": {
          "base_uri": "https://localhost:8080/"
        },
        "id": "FXfmtLjDDksw",
        "outputId": "cb2d9eca-8563-40fb-c322-fe83deacf4f2"
      },
      "execution_count": null,
      "outputs": [
        {
          "output_type": "execute_result",
          "data": {
            "text/plain": [
              "GridSearchCV(cv=10, estimator=RandomForestRegressor(), n_jobs=4,\n",
              "             param_grid={'max_depth': [5, 10, 15],\n",
              "                         'max_features': ['auto', 'sqrt'],\n",
              "                         'n_estimators': [500, 1000, 1500]})"
            ]
          },
          "metadata": {},
          "execution_count": 43
        }
      ]
    },
    {
      "cell_type": "code",
      "source": [
        "# Mejores parámetros del modelo ------------------------------------------------\n",
        "\n",
        "RF_model.best_params_"
      ],
      "metadata": {
        "id": "WRtKXVQHFXV4",
        "colab": {
          "base_uri": "https://localhost:8080/"
        },
        "outputId": "5102bfee-3353-406a-f697-9f3f62367c60"
      },
      "execution_count": null,
      "outputs": [
        {
          "output_type": "execute_result",
          "data": {
            "text/plain": [
              "{'max_depth': 15, 'max_features': 'sqrt', 'n_estimators': 1000}"
            ]
          },
          "metadata": {},
          "execution_count": 44
        }
      ]
    },
    {
      "cell_type": "code",
      "source": [
        "# Evaluamos el modelo ----------------------------------------------------------\n",
        "\n",
        "pred_rf = RF_model.predict(X_test)\n",
        "\n",
        "print(\"\\t\\tError Table\")\n",
        "print('Mean Absolute Error      : ', mean_absolute_error(y_test, pred_rf))\n",
        "print('Mean Squared  Error      : ', mean_squared_error(y_test, pred_rf))\n",
        "print('Root Mean Squared  Error : ', np.sqrt(mean_squared_error(y_test, pred_rf)))\n",
        "print('R Squared Error          : ', r2_score(y_test, pred_rf))"
      ],
      "metadata": {
        "id": "pb70iTWIFqQJ",
        "colab": {
          "base_uri": "https://localhost:8080/"
        },
        "outputId": "dad167d3-2b61-451f-979f-d6c4010558d5"
      },
      "execution_count": null,
      "outputs": [
        {
          "output_type": "stream",
          "name": "stdout",
          "text": [
            "\t\tError Table\n",
            "Mean Absolute Error      :  1524.0494608684962\n",
            "Mean Squared  Error      :  4438429.415185426\n",
            "Root Mean Squared  Error :  2106.758034323217\n",
            "R Squared Error          :  0.9171395113475104\n"
          ]
        }
      ]
    },
    {
      "cell_type": "code",
      "source": [
        "# Cálculo de residuos ----------------------------------------------------------\n",
        "\n",
        "residuos_train_rf = pred_rf - y_test"
      ],
      "metadata": {
        "id": "fU0YXLpN2GCG"
      },
      "execution_count": null,
      "outputs": []
    },
    {
      "cell_type": "code",
      "source": [
        "# Generación de gráficos de predicciones y análisis de residuos ----------------\n",
        "\n",
        "graph_res(y_test, pred_rf, residuos_train_rf)"
      ],
      "metadata": {
        "id": "NSgz58g63dfA",
        "colab": {
          "base_uri": "https://localhost:8080/",
          "height": 726
        },
        "outputId": "a11d3563-3fe1-44b4-8600-89cce410bcf2"
      },
      "execution_count": null,
      "outputs": [
        {
          "output_type": "display_data",
          "data": {
            "text/plain": [
              "<Figure size 1008x720 with 4 Axes>"
            ],
            "image/png": "[encoded data removed]"
          },
          "metadata": {
            "needs_background": "light"
          }
        }
      ]
    },
    {
      "cell_type": "code",
      "source": [
        "# Análisis de las características principales ----------------------------------\n",
        "\n",
        "features = X.columns\n",
        "importances = RF_model.best_estimator_.feature_importances_\n",
        "indices = np.argsort(importances)\n",
        "\n",
        "plt.barh(range(len(indices)), importances[indices])\n",
        "plt.yticks(range(len(indices)), [features[i] for i in indices])\n",
        "plt.show()"
      ],
      "metadata": {
        "colab": {
          "base_uri": "https://localhost:8080/",
          "height": 265
        },
        "id": "H9LHKaExqOye",
        "outputId": "370bce19-6f37-46d8-944c-27500cba60db"
      },
      "execution_count": null,
      "outputs": [
        {
          "output_type": "display_data",
          "data": {
            "text/plain": [
              "<Figure size 432x288 with 1 Axes>"
            ],
            "image/png": "[encoded data removed]"
          },
          "metadata": {
            "needs_background": "light"
          }
        }
      ]
    },
    {
      "cell_type": "markdown",
      "source": [
        "### LGBM"
      ],
      "metadata": {
        "id": "V_hivqTc39od"
      }
    },
    {
      "cell_type": "code",
      "source": [
        "# Aplicamos un modelo LGBMRegresor ---------------------------------------------\n",
        "\n",
        "model_lgbm = lgb.LGBMRegressor()"
      ],
      "metadata": {
        "id": "d39CWLG3etFo"
      },
      "execution_count": null,
      "outputs": []
    },
    {
      "cell_type": "code",
      "source": [
        "# Buscamos los mejores parámetros para el modelo -------------------------------\n",
        "\n",
        "parameters = {\n",
        "    'max_deph':[32,64],\n",
        "    'min_data_in_leaf':[1,5,10],\n",
        "    'colsample_bytree':[0.8,1],\n",
        "    'n_estimators':[50, 100]\n",
        "}\n",
        "n_cpu = os.cpu_count()\n",
        "n_thread = n_cpu*2\n",
        "\n",
        "LGBM_model = GridSearchCV(model_lgbm, parameters, cv=10, n_jobs=4)\n",
        "LGBM_model.fit(X_train, y_train)"
      ],
      "metadata": {
        "id": "zU6JAMIhfVuZ",
        "colab": {
          "base_uri": "https://localhost:8080/"
        },
        "outputId": "b76b0f08-d352-4a01-cc78-a4285d352c15"
      },
      "execution_count": null,
      "outputs": [
        {
          "output_type": "execute_result",
          "data": {
            "text/plain": [
              "GridSearchCV(cv=10, estimator=LGBMRegressor(), n_jobs=4,\n",
              "             param_grid={'colsample_bytree': [0.8, 1], 'max_deph': [32, 64],\n",
              "                         'min_data_in_leaf': [1, 5, 10],\n",
              "                         'n_estimators': [50, 100]})"
            ]
          },
          "metadata": {},
          "execution_count": 50
        }
      ]
    },
    {
      "cell_type": "code",
      "source": [
        "# Mejores parámetros del modelo ------------------------------------------------\n",
        "\n",
        "LGBM_model.best_params_"
      ],
      "metadata": {
        "id": "0pM8okTWhoVp",
        "colab": {
          "base_uri": "https://localhost:8080/"
        },
        "outputId": "e6a1f1eb-7671-4546-8b80-46b3b51dc6ab"
      },
      "execution_count": null,
      "outputs": [
        {
          "output_type": "execute_result",
          "data": {
            "text/plain": [
              "{'colsample_bytree': 0.8,\n",
              " 'max_deph': 32,\n",
              " 'min_data_in_leaf': 5,\n",
              " 'n_estimators': 100}"
            ]
          },
          "metadata": {},
          "execution_count": 51
        }
      ]
    },
    {
      "cell_type": "code",
      "source": [
        "# Evaluamos el modelo ----------------------------------------------------------\n",
        "\n",
        "pred_lgbm = LGBM_model.predict(X_test)\n",
        "\n",
        "print(\"\\t\\tError Table\")\n",
        "print('Mean Absolute Error      : ', mean_absolute_error(y_test, pred_lgbm))\n",
        "print('Mean Squared  Error      : ', mean_squared_error(y_test, pred_lgbm))\n",
        "print('Root Mean Squared  Error : ', np.sqrt(mean_squared_error(y_test, pred_lgbm)))\n",
        "print('R Squared Error          : ', r2_score(y_test, pred_lgbm))\n"
      ],
      "metadata": {
        "id": "shj4FIiliAl4",
        "colab": {
          "base_uri": "https://localhost:8080/"
        },
        "outputId": "01e11e57-8987-4048-d6d6-4cd69160676d"
      },
      "execution_count": null,
      "outputs": [
        {
          "output_type": "stream",
          "name": "stdout",
          "text": [
            "\t\tError Table\n",
            "Mean Absolute Error      :  1473.4882196585286\n",
            "Mean Squared  Error      :  3815142.905924012\n",
            "Root Mean Squared  Error :  1953.2390805848659\n",
            "R Squared Error          :  0.9287755699386883\n"
          ]
        }
      ]
    },
    {
      "cell_type": "code",
      "source": [
        "# Cálculo de residuos ----------------------------------------------------------\n",
        "\n",
        "residuos_train_lgbm = pred_lgbm - y_test"
      ],
      "metadata": {
        "id": "im4ygxfQ3r5E"
      },
      "execution_count": null,
      "outputs": []
    },
    {
      "cell_type": "code",
      "source": [
        "# Generación de gráficos -------------------------------------------------------\n",
        "\n",
        "graph_res(y_test, pred_lgbm, residuos_train_lgbm)"
      ],
      "metadata": {
        "id": "Px1GlScV4AXY",
        "colab": {
          "base_uri": "https://localhost:8080/",
          "height": 726
        },
        "outputId": "1dedfb6c-9430-49a9-9c7f-43e2bb7f3b13"
      },
      "execution_count": null,
      "outputs": [
        {
          "output_type": "display_data",
          "data": {
            "text/plain": [
              "<Figure size 1008x720 with 4 Axes>"
            ],
            "image/png": "[encoded data removed]"
          },
          "metadata": {
            "needs_background": "light"
          }
        }
      ]
    },
    {
      "cell_type": "code",
      "source": [
        "# Análisis de las características principales ----------------------------------\n",
        "\n",
        "features = X.columns\n",
        "importances = LGBM_model.best_estimator_.feature_importances_\n",
        "indices = np.argsort(importances)\n",
        "\n",
        "plt.barh(range(len(indices)), importances[indices])\n",
        "plt.yticks(range(len(indices)), [features[i] for i in indices])\n",
        "plt.show()"
      ],
      "metadata": {
        "colab": {
          "base_uri": "https://localhost:8080/",
          "height": 265
        },
        "id": "kUXYA5HMqI9i",
        "outputId": "83318d3d-9fbc-4adf-98e3-7c4bcdbf111f"
      },
      "execution_count": null,
      "outputs": [
        {
          "output_type": "display_data",
          "data": {
            "text/plain": [
              "<Figure size 432x288 with 1 Axes>"
            ],
            "image/png": "[encoded data removed]"
          },
          "metadata": {
            "needs_background": "light"
          }
        }
      ]
    },
    {
      "cell_type": "markdown",
      "source": [
        "# Análisis de los modelos"
      ],
      "metadata": {
        "id": "iL-ErRmziKlC"
      }
    },
    {
      "cell_type": "code",
      "source": [
        "# Distribución de las predicciones ---------------------------------------------\n",
        "\n",
        "plt.figure(figsize=(14,10))\n",
        "plt.scatter(x=y_test, y=pred_rf,  alpha = 0.4)\n",
        "plt.scatter(x=y_test, y=pred_lgbm,  alpha = 0.4)\n",
        "plt.legend(['Random Forest', 'LGBM'])\n",
        "plt.plot([10000, 50000], [10000,50000], 'r-')"
      ],
      "metadata": {
        "id": "NF9OPJ5piOXm",
        "colab": {
          "base_uri": "https://localhost:8080/",
          "height": 609
        },
        "outputId": "86ab3d46-7bd3-47a6-affe-1988d426735f"
      },
      "execution_count": null,
      "outputs": [
        {
          "output_type": "execute_result",
          "data": {
            "text/plain": [
              "[<matplotlib.lines.Line2D at 0x7fed75f831d0>]"
            ]
          },
          "metadata": {},
          "execution_count": 92
        },
        {
          "output_type": "display_data",
          "data": {
            "text/plain": [
              "<Figure size 1008x720 with 1 Axes>"
            ],
            "image/png": "[encoded data removed]"
          },
          "metadata": {
            "needs_background": "light"
          }
        }
      ]
    },
    {
      "cell_type": "code",
      "source": [
        "# Análisis de los residuos -----------------------------------------------------\n",
        "\n",
        "plt.figure(figsize=(14,10))\n",
        "plt.scatter(list(range(len(y_test))), residuos_train_rf, alpha = 0.4)\n",
        "plt.scatter(list(range(len(y_test))), residuos_train_lgbm, alpha = 0.4)\n",
        "plt.legend(['Random Forest', 'LGBM'])\n",
        "plt.axhline(y = 0, linestyle = '--', color = 'black', lw=2)\n",
        "plt.title('Residuos del modelo', fontsize = 10, fontweight = \"bold\")\n",
        "plt.xlabel('id')\n",
        "plt.ylabel('Residuo')"
      ],
      "metadata": {
        "id": "jSh92USSrPRr",
        "colab": {
          "base_uri": "https://localhost:8080/",
          "height": 640
        },
        "outputId": "663f330d-5a09-41c2-a356-73ea1b8fafca"
      },
      "execution_count": null,
      "outputs": [
        {
          "output_type": "execute_result",
          "data": {
            "text/plain": [
              "Text(0, 0.5, 'Residuo')"
            ]
          },
          "metadata": {},
          "execution_count": 93
        },
        {
          "output_type": "display_data",
          "data": {
            "text/plain": [
              "<Figure size 1008x720 with 1 Axes>"
            ],
            "image/png": "[encoded data removed]"
          },
          "metadata": {
            "needs_background": "light"
          }
        }
      ]
    },
    {
      "cell_type": "code",
      "source": [
        "# Distribución de los errores de las predicciones ------------------------------\n",
        "\n",
        "err_rf = (pred_rf-y_test)/y_test*100\n",
        "err_lgbm = (pred_lgbm-y_test)/y_test*100\n",
        "\n",
        "plt.figure(figsize=(14,10))\n",
        "plt.hist(err_rf, bins=14, alpha=0.4)\n",
        "plt.hist(err_lgbm, bins=14, alpha=0.4)\n",
        "plt.legend(['Random Forest', 'LGBM'])\n",
        "plt.xlabel('error(%)')\n",
        "plt.grid()"
      ],
      "metadata": {
        "id": "J8ZdtUZajNki",
        "colab": {
          "base_uri": "https://localhost:8080/",
          "height": 609
        },
        "outputId": "6c931d73-209d-45e1-8494-308d71a19736"
      },
      "execution_count": null,
      "outputs": [
        {
          "output_type": "display_data",
          "data": {
            "text/plain": [
              "<Figure size 1008x720 with 1 Axes>"
            ],
            "image/png": "[encoded data removed]"
          },
          "metadata": {
            "needs_background": "light"
          }
        }
      ]
    }
  ]
}